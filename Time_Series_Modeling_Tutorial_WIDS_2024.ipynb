{
  "nbformat": 4,
  "nbformat_minor": 0,
  "metadata": {
    "colab": {
      "provenance": [],
      "collapsed_sections": [
        "inIfZNxJcUGh",
        "1jk9KsxWlDZ6",
        "Iioa-Xo4n3m4",
        "0D7g8zHgtQAq",
        "t7X-wY3lH_ag",
        "pVlnyjYx1Aaj",
        "HzFnC8wHGh3t",
        "4i_0k5UixCOX"
      ]
    },
    "kernelspec": {
      "name": "python3",
      "display_name": "Python 3"
    },
    "language_info": {
      "name": "python"
    },
    "accelerator": "TPU",
    "widgets": {
      "application/vnd.jupyter.widget-state+json": {
        "00a4363b51a6462eb28446f1abe30d57": {
          "model_module": "@jupyter-widgets/controls",
          "model_name": "HBoxModel",
          "model_module_version": "1.5.0",
          "state": {
            "_dom_classes": [],
            "_model_module": "@jupyter-widgets/controls",
            "_model_module_version": "1.5.0",
            "_model_name": "HBoxModel",
            "_view_count": null,
            "_view_module": "@jupyter-widgets/controls",
            "_view_module_version": "1.5.0",
            "_view_name": "HBoxView",
            "box_style": "",
            "children": [
              "IPY_MODEL_909183aeed264d91b2917671fb083e40",
              "IPY_MODEL_bec45c89dbb441f59ef1ea3b57e93c34",
              "IPY_MODEL_54d4f4c32b0c4417a7ffab1abec7e2af"
            ],
            "layout": "IPY_MODEL_346b427e7d4d4e01af4913c255dfd1de"
          }
        },
        "909183aeed264d91b2917671fb083e40": {
          "model_module": "@jupyter-widgets/controls",
          "model_name": "HTMLModel",
          "model_module_version": "1.5.0",
          "state": {
            "_dom_classes": [],
            "_model_module": "@jupyter-widgets/controls",
            "_model_module_version": "1.5.0",
            "_model_name": "HTMLModel",
            "_view_count": null,
            "_view_module": "@jupyter-widgets/controls",
            "_view_module_version": "1.5.0",
            "_view_name": "HTMLView",
            "description": "",
            "description_tooltip": null,
            "layout": "IPY_MODEL_bb7559ecbdf845f58b9390da0757d459",
            "placeholder": "​",
            "style": "IPY_MODEL_f147a637b1c241a48a6675debebb7440",
            "value": "Epoch 49: 100%"
          }
        },
        "bec45c89dbb441f59ef1ea3b57e93c34": {
          "model_module": "@jupyter-widgets/controls",
          "model_name": "FloatProgressModel",
          "model_module_version": "1.5.0",
          "state": {
            "_dom_classes": [],
            "_model_module": "@jupyter-widgets/controls",
            "_model_module_version": "1.5.0",
            "_model_name": "FloatProgressModel",
            "_view_count": null,
            "_view_module": "@jupyter-widgets/controls",
            "_view_module_version": "1.5.0",
            "_view_name": "ProgressView",
            "bar_style": "success",
            "description": "",
            "description_tooltip": null,
            "layout": "IPY_MODEL_e1eec3107a0a498aac857289ff555b91",
            "max": 1,
            "min": 0,
            "orientation": "horizontal",
            "style": "IPY_MODEL_bb36d76ab45649849a05e3a9a73e6ee0",
            "value": 1
          }
        },
        "54d4f4c32b0c4417a7ffab1abec7e2af": {
          "model_module": "@jupyter-widgets/controls",
          "model_name": "HTMLModel",
          "model_module_version": "1.5.0",
          "state": {
            "_dom_classes": [],
            "_model_module": "@jupyter-widgets/controls",
            "_model_module_version": "1.5.0",
            "_model_name": "HTMLModel",
            "_view_count": null,
            "_view_module": "@jupyter-widgets/controls",
            "_view_module_version": "1.5.0",
            "_view_name": "HTMLView",
            "description": "",
            "description_tooltip": null,
            "layout": "IPY_MODEL_175f9f4ce9ff4a4a9bf9831e622de7e0",
            "placeholder": "​",
            "style": "IPY_MODEL_25e2f695089e465685316eae921e12ea",
            "value": " 1/1 [00:00&lt;00:00,  4.42it/s, train_loss=0.000554]"
          }
        },
        "346b427e7d4d4e01af4913c255dfd1de": {
          "model_module": "@jupyter-widgets/base",
          "model_name": "LayoutModel",
          "model_module_version": "1.2.0",
          "state": {
            "_model_module": "@jupyter-widgets/base",
            "_model_module_version": "1.2.0",
            "_model_name": "LayoutModel",
            "_view_count": null,
            "_view_module": "@jupyter-widgets/base",
            "_view_module_version": "1.2.0",
            "_view_name": "LayoutView",
            "align_content": null,
            "align_items": null,
            "align_self": null,
            "border": null,
            "bottom": null,
            "display": "inline-flex",
            "flex": null,
            "flex_flow": "row wrap",
            "grid_area": null,
            "grid_auto_columns": null,
            "grid_auto_flow": null,
            "grid_auto_rows": null,
            "grid_column": null,
            "grid_gap": null,
            "grid_row": null,
            "grid_template_areas": null,
            "grid_template_columns": null,
            "grid_template_rows": null,
            "height": null,
            "justify_content": null,
            "justify_items": null,
            "left": null,
            "margin": null,
            "max_height": null,
            "max_width": null,
            "min_height": null,
            "min_width": null,
            "object_fit": null,
            "object_position": null,
            "order": null,
            "overflow": null,
            "overflow_x": null,
            "overflow_y": null,
            "padding": null,
            "right": null,
            "top": null,
            "visibility": null,
            "width": "100%"
          }
        },
        "bb7559ecbdf845f58b9390da0757d459": {
          "model_module": "@jupyter-widgets/base",
          "model_name": "LayoutModel",
          "model_module_version": "1.2.0",
          "state": {
            "_model_module": "@jupyter-widgets/base",
            "_model_module_version": "1.2.0",
            "_model_name": "LayoutModel",
            "_view_count": null,
            "_view_module": "@jupyter-widgets/base",
            "_view_module_version": "1.2.0",
            "_view_name": "LayoutView",
            "align_content": null,
            "align_items": null,
            "align_self": null,
            "border": null,
            "bottom": null,
            "display": null,
            "flex": null,
            "flex_flow": null,
            "grid_area": null,
            "grid_auto_columns": null,
            "grid_auto_flow": null,
            "grid_auto_rows": null,
            "grid_column": null,
            "grid_gap": null,
            "grid_row": null,
            "grid_template_areas": null,
            "grid_template_columns": null,
            "grid_template_rows": null,
            "height": null,
            "justify_content": null,
            "justify_items": null,
            "left": null,
            "margin": null,
            "max_height": null,
            "max_width": null,
            "min_height": null,
            "min_width": null,
            "object_fit": null,
            "object_position": null,
            "order": null,
            "overflow": null,
            "overflow_x": null,
            "overflow_y": null,
            "padding": null,
            "right": null,
            "top": null,
            "visibility": null,
            "width": null
          }
        },
        "f147a637b1c241a48a6675debebb7440": {
          "model_module": "@jupyter-widgets/controls",
          "model_name": "DescriptionStyleModel",
          "model_module_version": "1.5.0",
          "state": {
            "_model_module": "@jupyter-widgets/controls",
            "_model_module_version": "1.5.0",
            "_model_name": "DescriptionStyleModel",
            "_view_count": null,
            "_view_module": "@jupyter-widgets/base",
            "_view_module_version": "1.2.0",
            "_view_name": "StyleView",
            "description_width": ""
          }
        },
        "e1eec3107a0a498aac857289ff555b91": {
          "model_module": "@jupyter-widgets/base",
          "model_name": "LayoutModel",
          "model_module_version": "1.2.0",
          "state": {
            "_model_module": "@jupyter-widgets/base",
            "_model_module_version": "1.2.0",
            "_model_name": "LayoutModel",
            "_view_count": null,
            "_view_module": "@jupyter-widgets/base",
            "_view_module_version": "1.2.0",
            "_view_name": "LayoutView",
            "align_content": null,
            "align_items": null,
            "align_self": null,
            "border": null,
            "bottom": null,
            "display": null,
            "flex": "2",
            "flex_flow": null,
            "grid_area": null,
            "grid_auto_columns": null,
            "grid_auto_flow": null,
            "grid_auto_rows": null,
            "grid_column": null,
            "grid_gap": null,
            "grid_row": null,
            "grid_template_areas": null,
            "grid_template_columns": null,
            "grid_template_rows": null,
            "height": null,
            "justify_content": null,
            "justify_items": null,
            "left": null,
            "margin": null,
            "max_height": null,
            "max_width": null,
            "min_height": null,
            "min_width": null,
            "object_fit": null,
            "object_position": null,
            "order": null,
            "overflow": null,
            "overflow_x": null,
            "overflow_y": null,
            "padding": null,
            "right": null,
            "top": null,
            "visibility": null,
            "width": null
          }
        },
        "bb36d76ab45649849a05e3a9a73e6ee0": {
          "model_module": "@jupyter-widgets/controls",
          "model_name": "ProgressStyleModel",
          "model_module_version": "1.5.0",
          "state": {
            "_model_module": "@jupyter-widgets/controls",
            "_model_module_version": "1.5.0",
            "_model_name": "ProgressStyleModel",
            "_view_count": null,
            "_view_module": "@jupyter-widgets/base",
            "_view_module_version": "1.2.0",
            "_view_name": "StyleView",
            "bar_color": null,
            "description_width": ""
          }
        },
        "175f9f4ce9ff4a4a9bf9831e622de7e0": {
          "model_module": "@jupyter-widgets/base",
          "model_name": "LayoutModel",
          "model_module_version": "1.2.0",
          "state": {
            "_model_module": "@jupyter-widgets/base",
            "_model_module_version": "1.2.0",
            "_model_name": "LayoutModel",
            "_view_count": null,
            "_view_module": "@jupyter-widgets/base",
            "_view_module_version": "1.2.0",
            "_view_name": "LayoutView",
            "align_content": null,
            "align_items": null,
            "align_self": null,
            "border": null,
            "bottom": null,
            "display": null,
            "flex": null,
            "flex_flow": null,
            "grid_area": null,
            "grid_auto_columns": null,
            "grid_auto_flow": null,
            "grid_auto_rows": null,
            "grid_column": null,
            "grid_gap": null,
            "grid_row": null,
            "grid_template_areas": null,
            "grid_template_columns": null,
            "grid_template_rows": null,
            "height": null,
            "justify_content": null,
            "justify_items": null,
            "left": null,
            "margin": null,
            "max_height": null,
            "max_width": null,
            "min_height": null,
            "min_width": null,
            "object_fit": null,
            "object_position": null,
            "order": null,
            "overflow": null,
            "overflow_x": null,
            "overflow_y": null,
            "padding": null,
            "right": null,
            "top": null,
            "visibility": null,
            "width": null
          }
        },
        "25e2f695089e465685316eae921e12ea": {
          "model_module": "@jupyter-widgets/controls",
          "model_name": "DescriptionStyleModel",
          "model_module_version": "1.5.0",
          "state": {
            "_model_module": "@jupyter-widgets/controls",
            "_model_module_version": "1.5.0",
            "_model_name": "DescriptionStyleModel",
            "_view_count": null,
            "_view_module": "@jupyter-widgets/base",
            "_view_module_version": "1.2.0",
            "_view_name": "StyleView",
            "description_width": ""
          }
        },
        "2420543c666d48c0af396a3cd0717dec": {
          "model_module": "@jupyter-widgets/controls",
          "model_name": "HBoxModel",
          "model_module_version": "1.5.0",
          "state": {
            "_dom_classes": [],
            "_model_module": "@jupyter-widgets/controls",
            "_model_module_version": "1.5.0",
            "_model_name": "HBoxModel",
            "_view_count": null,
            "_view_module": "@jupyter-widgets/controls",
            "_view_module_version": "1.5.0",
            "_view_name": "HBoxView",
            "box_style": "",
            "children": [
              "IPY_MODEL_15acc48c62b546ca9bb5e60a7669416f",
              "IPY_MODEL_503ccb44dce341c1b9e87dcad96d54b3",
              "IPY_MODEL_e5d4bf721f9847af93410d8b2843bb64"
            ],
            "layout": "IPY_MODEL_c9ad145928f24b96b0a483fca47739a6"
          }
        },
        "15acc48c62b546ca9bb5e60a7669416f": {
          "model_module": "@jupyter-widgets/controls",
          "model_name": "HTMLModel",
          "model_module_version": "1.5.0",
          "state": {
            "_dom_classes": [],
            "_model_module": "@jupyter-widgets/controls",
            "_model_module_version": "1.5.0",
            "_model_name": "HTMLModel",
            "_view_count": null,
            "_view_module": "@jupyter-widgets/controls",
            "_view_module_version": "1.5.0",
            "_view_name": "HTMLView",
            "description": "",
            "description_tooltip": null,
            "layout": "IPY_MODEL_7576f8984d4a49f898da963de91a2d5b",
            "placeholder": "​",
            "style": "IPY_MODEL_29c5c8d429164c2e9496ba7e7173197b",
            "value": "Predicting DataLoader 0: 100%"
          }
        },
        "503ccb44dce341c1b9e87dcad96d54b3": {
          "model_module": "@jupyter-widgets/controls",
          "model_name": "FloatProgressModel",
          "model_module_version": "1.5.0",
          "state": {
            "_dom_classes": [],
            "_model_module": "@jupyter-widgets/controls",
            "_model_module_version": "1.5.0",
            "_model_name": "FloatProgressModel",
            "_view_count": null,
            "_view_module": "@jupyter-widgets/controls",
            "_view_module_version": "1.5.0",
            "_view_name": "ProgressView",
            "bar_style": "success",
            "description": "",
            "description_tooltip": null,
            "layout": "IPY_MODEL_e9826993544a42d3b3012827308b1968",
            "max": 1,
            "min": 0,
            "orientation": "horizontal",
            "style": "IPY_MODEL_6df243d420274612bfb24864dd93dcd2",
            "value": 1
          }
        },
        "e5d4bf721f9847af93410d8b2843bb64": {
          "model_module": "@jupyter-widgets/controls",
          "model_name": "HTMLModel",
          "model_module_version": "1.5.0",
          "state": {
            "_dom_classes": [],
            "_model_module": "@jupyter-widgets/controls",
            "_model_module_version": "1.5.0",
            "_model_name": "HTMLModel",
            "_view_count": null,
            "_view_module": "@jupyter-widgets/controls",
            "_view_module_version": "1.5.0",
            "_view_name": "HTMLView",
            "description": "",
            "description_tooltip": null,
            "layout": "IPY_MODEL_37fc4beb5e45455987960950caafb0e6",
            "placeholder": "​",
            "style": "IPY_MODEL_fe029104dd35497da307f5b6c0509e88",
            "value": " 1/1 [00:00&lt;00:00, 42.85it/s]"
          }
        },
        "c9ad145928f24b96b0a483fca47739a6": {
          "model_module": "@jupyter-widgets/base",
          "model_name": "LayoutModel",
          "model_module_version": "1.2.0",
          "state": {
            "_model_module": "@jupyter-widgets/base",
            "_model_module_version": "1.2.0",
            "_model_name": "LayoutModel",
            "_view_count": null,
            "_view_module": "@jupyter-widgets/base",
            "_view_module_version": "1.2.0",
            "_view_name": "LayoutView",
            "align_content": null,
            "align_items": null,
            "align_self": null,
            "border": null,
            "bottom": null,
            "display": "inline-flex",
            "flex": null,
            "flex_flow": "row wrap",
            "grid_area": null,
            "grid_auto_columns": null,
            "grid_auto_flow": null,
            "grid_auto_rows": null,
            "grid_column": null,
            "grid_gap": null,
            "grid_row": null,
            "grid_template_areas": null,
            "grid_template_columns": null,
            "grid_template_rows": null,
            "height": null,
            "justify_content": null,
            "justify_items": null,
            "left": null,
            "margin": null,
            "max_height": null,
            "max_width": null,
            "min_height": null,
            "min_width": null,
            "object_fit": null,
            "object_position": null,
            "order": null,
            "overflow": null,
            "overflow_x": null,
            "overflow_y": null,
            "padding": null,
            "right": null,
            "top": null,
            "visibility": null,
            "width": "100%"
          }
        },
        "7576f8984d4a49f898da963de91a2d5b": {
          "model_module": "@jupyter-widgets/base",
          "model_name": "LayoutModel",
          "model_module_version": "1.2.0",
          "state": {
            "_model_module": "@jupyter-widgets/base",
            "_model_module_version": "1.2.0",
            "_model_name": "LayoutModel",
            "_view_count": null,
            "_view_module": "@jupyter-widgets/base",
            "_view_module_version": "1.2.0",
            "_view_name": "LayoutView",
            "align_content": null,
            "align_items": null,
            "align_self": null,
            "border": null,
            "bottom": null,
            "display": null,
            "flex": null,
            "flex_flow": null,
            "grid_area": null,
            "grid_auto_columns": null,
            "grid_auto_flow": null,
            "grid_auto_rows": null,
            "grid_column": null,
            "grid_gap": null,
            "grid_row": null,
            "grid_template_areas": null,
            "grid_template_columns": null,
            "grid_template_rows": null,
            "height": null,
            "justify_content": null,
            "justify_items": null,
            "left": null,
            "margin": null,
            "max_height": null,
            "max_width": null,
            "min_height": null,
            "min_width": null,
            "object_fit": null,
            "object_position": null,
            "order": null,
            "overflow": null,
            "overflow_x": null,
            "overflow_y": null,
            "padding": null,
            "right": null,
            "top": null,
            "visibility": null,
            "width": null
          }
        },
        "29c5c8d429164c2e9496ba7e7173197b": {
          "model_module": "@jupyter-widgets/controls",
          "model_name": "DescriptionStyleModel",
          "model_module_version": "1.5.0",
          "state": {
            "_model_module": "@jupyter-widgets/controls",
            "_model_module_version": "1.5.0",
            "_model_name": "DescriptionStyleModel",
            "_view_count": null,
            "_view_module": "@jupyter-widgets/base",
            "_view_module_version": "1.2.0",
            "_view_name": "StyleView",
            "description_width": ""
          }
        },
        "e9826993544a42d3b3012827308b1968": {
          "model_module": "@jupyter-widgets/base",
          "model_name": "LayoutModel",
          "model_module_version": "1.2.0",
          "state": {
            "_model_module": "@jupyter-widgets/base",
            "_model_module_version": "1.2.0",
            "_model_name": "LayoutModel",
            "_view_count": null,
            "_view_module": "@jupyter-widgets/base",
            "_view_module_version": "1.2.0",
            "_view_name": "LayoutView",
            "align_content": null,
            "align_items": null,
            "align_self": null,
            "border": null,
            "bottom": null,
            "display": null,
            "flex": "2",
            "flex_flow": null,
            "grid_area": null,
            "grid_auto_columns": null,
            "grid_auto_flow": null,
            "grid_auto_rows": null,
            "grid_column": null,
            "grid_gap": null,
            "grid_row": null,
            "grid_template_areas": null,
            "grid_template_columns": null,
            "grid_template_rows": null,
            "height": null,
            "justify_content": null,
            "justify_items": null,
            "left": null,
            "margin": null,
            "max_height": null,
            "max_width": null,
            "min_height": null,
            "min_width": null,
            "object_fit": null,
            "object_position": null,
            "order": null,
            "overflow": null,
            "overflow_x": null,
            "overflow_y": null,
            "padding": null,
            "right": null,
            "top": null,
            "visibility": null,
            "width": null
          }
        },
        "6df243d420274612bfb24864dd93dcd2": {
          "model_module": "@jupyter-widgets/controls",
          "model_name": "ProgressStyleModel",
          "model_module_version": "1.5.0",
          "state": {
            "_model_module": "@jupyter-widgets/controls",
            "_model_module_version": "1.5.0",
            "_model_name": "ProgressStyleModel",
            "_view_count": null,
            "_view_module": "@jupyter-widgets/base",
            "_view_module_version": "1.2.0",
            "_view_name": "StyleView",
            "bar_color": null,
            "description_width": ""
          }
        },
        "37fc4beb5e45455987960950caafb0e6": {
          "model_module": "@jupyter-widgets/base",
          "model_name": "LayoutModel",
          "model_module_version": "1.2.0",
          "state": {
            "_model_module": "@jupyter-widgets/base",
            "_model_module_version": "1.2.0",
            "_model_name": "LayoutModel",
            "_view_count": null,
            "_view_module": "@jupyter-widgets/base",
            "_view_module_version": "1.2.0",
            "_view_name": "LayoutView",
            "align_content": null,
            "align_items": null,
            "align_self": null,
            "border": null,
            "bottom": null,
            "display": null,
            "flex": null,
            "flex_flow": null,
            "grid_area": null,
            "grid_auto_columns": null,
            "grid_auto_flow": null,
            "grid_auto_rows": null,
            "grid_column": null,
            "grid_gap": null,
            "grid_row": null,
            "grid_template_areas": null,
            "grid_template_columns": null,
            "grid_template_rows": null,
            "height": null,
            "justify_content": null,
            "justify_items": null,
            "left": null,
            "margin": null,
            "max_height": null,
            "max_width": null,
            "min_height": null,
            "min_width": null,
            "object_fit": null,
            "object_position": null,
            "order": null,
            "overflow": null,
            "overflow_x": null,
            "overflow_y": null,
            "padding": null,
            "right": null,
            "top": null,
            "visibility": null,
            "width": null
          }
        },
        "fe029104dd35497da307f5b6c0509e88": {
          "model_module": "@jupyter-widgets/controls",
          "model_name": "DescriptionStyleModel",
          "model_module_version": "1.5.0",
          "state": {
            "_model_module": "@jupyter-widgets/controls",
            "_model_module_version": "1.5.0",
            "_model_name": "DescriptionStyleModel",
            "_view_count": null,
            "_view_module": "@jupyter-widgets/base",
            "_view_module_version": "1.2.0",
            "_view_name": "StyleView",
            "description_width": ""
          }
        },
        "e27fc23bca0440d0964fa8121eff95e6": {
          "model_module": "@jupyter-widgets/controls",
          "model_name": "HBoxModel",
          "model_module_version": "1.5.0",
          "state": {
            "_dom_classes": [],
            "_model_module": "@jupyter-widgets/controls",
            "_model_module_version": "1.5.0",
            "_model_name": "HBoxModel",
            "_view_count": null,
            "_view_module": "@jupyter-widgets/controls",
            "_view_module_version": "1.5.0",
            "_view_name": "HBoxView",
            "box_style": "",
            "children": [
              "IPY_MODEL_0d9a03fa84d4491aa5d28938bedbf13c",
              "IPY_MODEL_43e6d6c22eef4d73aa5c7dc8514cd8c6",
              "IPY_MODEL_4299c37623124d8cb7c07b20422da78f"
            ],
            "layout": "IPY_MODEL_0961a2a8a66145a8990679d2904682f1"
          }
        },
        "0d9a03fa84d4491aa5d28938bedbf13c": {
          "model_module": "@jupyter-widgets/controls",
          "model_name": "HTMLModel",
          "model_module_version": "1.5.0",
          "state": {
            "_dom_classes": [],
            "_model_module": "@jupyter-widgets/controls",
            "_model_module_version": "1.5.0",
            "_model_name": "HTMLModel",
            "_view_count": null,
            "_view_module": "@jupyter-widgets/controls",
            "_view_module_version": "1.5.0",
            "_view_name": "HTMLView",
            "description": "",
            "description_tooltip": null,
            "layout": "IPY_MODEL_3e06408b40c14c368a1247145734cf72",
            "placeholder": "​",
            "style": "IPY_MODEL_42f5452fb3b649c6a6f7cc91cf023788",
            "value": "Epoch 49: 100%"
          }
        },
        "43e6d6c22eef4d73aa5c7dc8514cd8c6": {
          "model_module": "@jupyter-widgets/controls",
          "model_name": "FloatProgressModel",
          "model_module_version": "1.5.0",
          "state": {
            "_dom_classes": [],
            "_model_module": "@jupyter-widgets/controls",
            "_model_module_version": "1.5.0",
            "_model_name": "FloatProgressModel",
            "_view_count": null,
            "_view_module": "@jupyter-widgets/controls",
            "_view_module_version": "1.5.0",
            "_view_name": "ProgressView",
            "bar_style": "success",
            "description": "",
            "description_tooltip": null,
            "layout": "IPY_MODEL_023da4f6b99f43ebb20fb2eafb86ac13",
            "max": 27,
            "min": 0,
            "orientation": "horizontal",
            "style": "IPY_MODEL_d821409b390e41c0a565457a03c6bd44",
            "value": 27
          }
        },
        "4299c37623124d8cb7c07b20422da78f": {
          "model_module": "@jupyter-widgets/controls",
          "model_name": "HTMLModel",
          "model_module_version": "1.5.0",
          "state": {
            "_dom_classes": [],
            "_model_module": "@jupyter-widgets/controls",
            "_model_module_version": "1.5.0",
            "_model_name": "HTMLModel",
            "_view_count": null,
            "_view_module": "@jupyter-widgets/controls",
            "_view_module_version": "1.5.0",
            "_view_name": "HTMLView",
            "description": "",
            "description_tooltip": null,
            "layout": "IPY_MODEL_b002b0b103fc47499bd597eeeeb8d8c3",
            "placeholder": "​",
            "style": "IPY_MODEL_0559c89831854ce3ae58b54ec02d934c",
            "value": " 27/27 [00:02&lt;00:00,  9.65it/s, train_loss=0.00175]"
          }
        },
        "0961a2a8a66145a8990679d2904682f1": {
          "model_module": "@jupyter-widgets/base",
          "model_name": "LayoutModel",
          "model_module_version": "1.2.0",
          "state": {
            "_model_module": "@jupyter-widgets/base",
            "_model_module_version": "1.2.0",
            "_model_name": "LayoutModel",
            "_view_count": null,
            "_view_module": "@jupyter-widgets/base",
            "_view_module_version": "1.2.0",
            "_view_name": "LayoutView",
            "align_content": null,
            "align_items": null,
            "align_self": null,
            "border": null,
            "bottom": null,
            "display": "inline-flex",
            "flex": null,
            "flex_flow": "row wrap",
            "grid_area": null,
            "grid_auto_columns": null,
            "grid_auto_flow": null,
            "grid_auto_rows": null,
            "grid_column": null,
            "grid_gap": null,
            "grid_row": null,
            "grid_template_areas": null,
            "grid_template_columns": null,
            "grid_template_rows": null,
            "height": null,
            "justify_content": null,
            "justify_items": null,
            "left": null,
            "margin": null,
            "max_height": null,
            "max_width": null,
            "min_height": null,
            "min_width": null,
            "object_fit": null,
            "object_position": null,
            "order": null,
            "overflow": null,
            "overflow_x": null,
            "overflow_y": null,
            "padding": null,
            "right": null,
            "top": null,
            "visibility": null,
            "width": "100%"
          }
        },
        "3e06408b40c14c368a1247145734cf72": {
          "model_module": "@jupyter-widgets/base",
          "model_name": "LayoutModel",
          "model_module_version": "1.2.0",
          "state": {
            "_model_module": "@jupyter-widgets/base",
            "_model_module_version": "1.2.0",
            "_model_name": "LayoutModel",
            "_view_count": null,
            "_view_module": "@jupyter-widgets/base",
            "_view_module_version": "1.2.0",
            "_view_name": "LayoutView",
            "align_content": null,
            "align_items": null,
            "align_self": null,
            "border": null,
            "bottom": null,
            "display": null,
            "flex": null,
            "flex_flow": null,
            "grid_area": null,
            "grid_auto_columns": null,
            "grid_auto_flow": null,
            "grid_auto_rows": null,
            "grid_column": null,
            "grid_gap": null,
            "grid_row": null,
            "grid_template_areas": null,
            "grid_template_columns": null,
            "grid_template_rows": null,
            "height": null,
            "justify_content": null,
            "justify_items": null,
            "left": null,
            "margin": null,
            "max_height": null,
            "max_width": null,
            "min_height": null,
            "min_width": null,
            "object_fit": null,
            "object_position": null,
            "order": null,
            "overflow": null,
            "overflow_x": null,
            "overflow_y": null,
            "padding": null,
            "right": null,
            "top": null,
            "visibility": null,
            "width": null
          }
        },
        "42f5452fb3b649c6a6f7cc91cf023788": {
          "model_module": "@jupyter-widgets/controls",
          "model_name": "DescriptionStyleModel",
          "model_module_version": "1.5.0",
          "state": {
            "_model_module": "@jupyter-widgets/controls",
            "_model_module_version": "1.5.0",
            "_model_name": "DescriptionStyleModel",
            "_view_count": null,
            "_view_module": "@jupyter-widgets/base",
            "_view_module_version": "1.2.0",
            "_view_name": "StyleView",
            "description_width": ""
          }
        },
        "023da4f6b99f43ebb20fb2eafb86ac13": {
          "model_module": "@jupyter-widgets/base",
          "model_name": "LayoutModel",
          "model_module_version": "1.2.0",
          "state": {
            "_model_module": "@jupyter-widgets/base",
            "_model_module_version": "1.2.0",
            "_model_name": "LayoutModel",
            "_view_count": null,
            "_view_module": "@jupyter-widgets/base",
            "_view_module_version": "1.2.0",
            "_view_name": "LayoutView",
            "align_content": null,
            "align_items": null,
            "align_self": null,
            "border": null,
            "bottom": null,
            "display": null,
            "flex": "2",
            "flex_flow": null,
            "grid_area": null,
            "grid_auto_columns": null,
            "grid_auto_flow": null,
            "grid_auto_rows": null,
            "grid_column": null,
            "grid_gap": null,
            "grid_row": null,
            "grid_template_areas": null,
            "grid_template_columns": null,
            "grid_template_rows": null,
            "height": null,
            "justify_content": null,
            "justify_items": null,
            "left": null,
            "margin": null,
            "max_height": null,
            "max_width": null,
            "min_height": null,
            "min_width": null,
            "object_fit": null,
            "object_position": null,
            "order": null,
            "overflow": null,
            "overflow_x": null,
            "overflow_y": null,
            "padding": null,
            "right": null,
            "top": null,
            "visibility": null,
            "width": null
          }
        },
        "d821409b390e41c0a565457a03c6bd44": {
          "model_module": "@jupyter-widgets/controls",
          "model_name": "ProgressStyleModel",
          "model_module_version": "1.5.0",
          "state": {
            "_model_module": "@jupyter-widgets/controls",
            "_model_module_version": "1.5.0",
            "_model_name": "ProgressStyleModel",
            "_view_count": null,
            "_view_module": "@jupyter-widgets/base",
            "_view_module_version": "1.2.0",
            "_view_name": "StyleView",
            "bar_color": null,
            "description_width": ""
          }
        },
        "b002b0b103fc47499bd597eeeeb8d8c3": {
          "model_module": "@jupyter-widgets/base",
          "model_name": "LayoutModel",
          "model_module_version": "1.2.0",
          "state": {
            "_model_module": "@jupyter-widgets/base",
            "_model_module_version": "1.2.0",
            "_model_name": "LayoutModel",
            "_view_count": null,
            "_view_module": "@jupyter-widgets/base",
            "_view_module_version": "1.2.0",
            "_view_name": "LayoutView",
            "align_content": null,
            "align_items": null,
            "align_self": null,
            "border": null,
            "bottom": null,
            "display": null,
            "flex": null,
            "flex_flow": null,
            "grid_area": null,
            "grid_auto_columns": null,
            "grid_auto_flow": null,
            "grid_auto_rows": null,
            "grid_column": null,
            "grid_gap": null,
            "grid_row": null,
            "grid_template_areas": null,
            "grid_template_columns": null,
            "grid_template_rows": null,
            "height": null,
            "justify_content": null,
            "justify_items": null,
            "left": null,
            "margin": null,
            "max_height": null,
            "max_width": null,
            "min_height": null,
            "min_width": null,
            "object_fit": null,
            "object_position": null,
            "order": null,
            "overflow": null,
            "overflow_x": null,
            "overflow_y": null,
            "padding": null,
            "right": null,
            "top": null,
            "visibility": null,
            "width": null
          }
        },
        "0559c89831854ce3ae58b54ec02d934c": {
          "model_module": "@jupyter-widgets/controls",
          "model_name": "DescriptionStyleModel",
          "model_module_version": "1.5.0",
          "state": {
            "_model_module": "@jupyter-widgets/controls",
            "_model_module_version": "1.5.0",
            "_model_name": "DescriptionStyleModel",
            "_view_count": null,
            "_view_module": "@jupyter-widgets/base",
            "_view_module_version": "1.2.0",
            "_view_name": "StyleView",
            "description_width": ""
          }
        },
        "ef76eda4752342ef927af149b8880df4": {
          "model_module": "@jupyter-widgets/controls",
          "model_name": "HBoxModel",
          "model_module_version": "1.5.0",
          "state": {
            "_dom_classes": [],
            "_model_module": "@jupyter-widgets/controls",
            "_model_module_version": "1.5.0",
            "_model_name": "HBoxModel",
            "_view_count": null,
            "_view_module": "@jupyter-widgets/controls",
            "_view_module_version": "1.5.0",
            "_view_name": "HBoxView",
            "box_style": "",
            "children": [
              "IPY_MODEL_a186e4b87d8444cab41d81cedbaeb9a5",
              "IPY_MODEL_4cd9447629064b7b906013cdbb9df09f",
              "IPY_MODEL_b0f86115a7f5455f8370c89eadd23772"
            ],
            "layout": "IPY_MODEL_6356c53ecdd14ffeb52eeacd9e5479d5"
          }
        },
        "a186e4b87d8444cab41d81cedbaeb9a5": {
          "model_module": "@jupyter-widgets/controls",
          "model_name": "HTMLModel",
          "model_module_version": "1.5.0",
          "state": {
            "_dom_classes": [],
            "_model_module": "@jupyter-widgets/controls",
            "_model_module_version": "1.5.0",
            "_model_name": "HTMLModel",
            "_view_count": null,
            "_view_module": "@jupyter-widgets/controls",
            "_view_module_version": "1.5.0",
            "_view_name": "HTMLView",
            "description": "",
            "description_tooltip": null,
            "layout": "IPY_MODEL_1e77d91cbb3e471c9f91f3bf1d8bacaf",
            "placeholder": "​",
            "style": "IPY_MODEL_79279882d0f84915aba03df84d56ae42",
            "value": "Predicting DataLoader 0: 100%"
          }
        },
        "4cd9447629064b7b906013cdbb9df09f": {
          "model_module": "@jupyter-widgets/controls",
          "model_name": "FloatProgressModel",
          "model_module_version": "1.5.0",
          "state": {
            "_dom_classes": [],
            "_model_module": "@jupyter-widgets/controls",
            "_model_module_version": "1.5.0",
            "_model_name": "FloatProgressModel",
            "_view_count": null,
            "_view_module": "@jupyter-widgets/controls",
            "_view_module_version": "1.5.0",
            "_view_name": "ProgressView",
            "bar_style": "success",
            "description": "",
            "description_tooltip": null,
            "layout": "IPY_MODEL_76f19dc91d77453c9a44a541574894c5",
            "max": 1,
            "min": 0,
            "orientation": "horizontal",
            "style": "IPY_MODEL_496c4219b2524f35b109e80b04d237e6",
            "value": 1
          }
        },
        "b0f86115a7f5455f8370c89eadd23772": {
          "model_module": "@jupyter-widgets/controls",
          "model_name": "HTMLModel",
          "model_module_version": "1.5.0",
          "state": {
            "_dom_classes": [],
            "_model_module": "@jupyter-widgets/controls",
            "_model_module_version": "1.5.0",
            "_model_name": "HTMLModel",
            "_view_count": null,
            "_view_module": "@jupyter-widgets/controls",
            "_view_module_version": "1.5.0",
            "_view_name": "HTMLView",
            "description": "",
            "description_tooltip": null,
            "layout": "IPY_MODEL_ad7b1aac2b6b42e4bd81a59a13c443c1",
            "placeholder": "​",
            "style": "IPY_MODEL_f561b9750c064f799c9c079544f80d02",
            "value": " 1/1 [00:00&lt;00:00, 44.08it/s]"
          }
        },
        "6356c53ecdd14ffeb52eeacd9e5479d5": {
          "model_module": "@jupyter-widgets/base",
          "model_name": "LayoutModel",
          "model_module_version": "1.2.0",
          "state": {
            "_model_module": "@jupyter-widgets/base",
            "_model_module_version": "1.2.0",
            "_model_name": "LayoutModel",
            "_view_count": null,
            "_view_module": "@jupyter-widgets/base",
            "_view_module_version": "1.2.0",
            "_view_name": "LayoutView",
            "align_content": null,
            "align_items": null,
            "align_self": null,
            "border": null,
            "bottom": null,
            "display": "inline-flex",
            "flex": null,
            "flex_flow": "row wrap",
            "grid_area": null,
            "grid_auto_columns": null,
            "grid_auto_flow": null,
            "grid_auto_rows": null,
            "grid_column": null,
            "grid_gap": null,
            "grid_row": null,
            "grid_template_areas": null,
            "grid_template_columns": null,
            "grid_template_rows": null,
            "height": null,
            "justify_content": null,
            "justify_items": null,
            "left": null,
            "margin": null,
            "max_height": null,
            "max_width": null,
            "min_height": null,
            "min_width": null,
            "object_fit": null,
            "object_position": null,
            "order": null,
            "overflow": null,
            "overflow_x": null,
            "overflow_y": null,
            "padding": null,
            "right": null,
            "top": null,
            "visibility": null,
            "width": "100%"
          }
        },
        "1e77d91cbb3e471c9f91f3bf1d8bacaf": {
          "model_module": "@jupyter-widgets/base",
          "model_name": "LayoutModel",
          "model_module_version": "1.2.0",
          "state": {
            "_model_module": "@jupyter-widgets/base",
            "_model_module_version": "1.2.0",
            "_model_name": "LayoutModel",
            "_view_count": null,
            "_view_module": "@jupyter-widgets/base",
            "_view_module_version": "1.2.0",
            "_view_name": "LayoutView",
            "align_content": null,
            "align_items": null,
            "align_self": null,
            "border": null,
            "bottom": null,
            "display": null,
            "flex": null,
            "flex_flow": null,
            "grid_area": null,
            "grid_auto_columns": null,
            "grid_auto_flow": null,
            "grid_auto_rows": null,
            "grid_column": null,
            "grid_gap": null,
            "grid_row": null,
            "grid_template_areas": null,
            "grid_template_columns": null,
            "grid_template_rows": null,
            "height": null,
            "justify_content": null,
            "justify_items": null,
            "left": null,
            "margin": null,
            "max_height": null,
            "max_width": null,
            "min_height": null,
            "min_width": null,
            "object_fit": null,
            "object_position": null,
            "order": null,
            "overflow": null,
            "overflow_x": null,
            "overflow_y": null,
            "padding": null,
            "right": null,
            "top": null,
            "visibility": null,
            "width": null
          }
        },
        "79279882d0f84915aba03df84d56ae42": {
          "model_module": "@jupyter-widgets/controls",
          "model_name": "DescriptionStyleModel",
          "model_module_version": "1.5.0",
          "state": {
            "_model_module": "@jupyter-widgets/controls",
            "_model_module_version": "1.5.0",
            "_model_name": "DescriptionStyleModel",
            "_view_count": null,
            "_view_module": "@jupyter-widgets/base",
            "_view_module_version": "1.2.0",
            "_view_name": "StyleView",
            "description_width": ""
          }
        },
        "76f19dc91d77453c9a44a541574894c5": {
          "model_module": "@jupyter-widgets/base",
          "model_name": "LayoutModel",
          "model_module_version": "1.2.0",
          "state": {
            "_model_module": "@jupyter-widgets/base",
            "_model_module_version": "1.2.0",
            "_model_name": "LayoutModel",
            "_view_count": null,
            "_view_module": "@jupyter-widgets/base",
            "_view_module_version": "1.2.0",
            "_view_name": "LayoutView",
            "align_content": null,
            "align_items": null,
            "align_self": null,
            "border": null,
            "bottom": null,
            "display": null,
            "flex": "2",
            "flex_flow": null,
            "grid_area": null,
            "grid_auto_columns": null,
            "grid_auto_flow": null,
            "grid_auto_rows": null,
            "grid_column": null,
            "grid_gap": null,
            "grid_row": null,
            "grid_template_areas": null,
            "grid_template_columns": null,
            "grid_template_rows": null,
            "height": null,
            "justify_content": null,
            "justify_items": null,
            "left": null,
            "margin": null,
            "max_height": null,
            "max_width": null,
            "min_height": null,
            "min_width": null,
            "object_fit": null,
            "object_position": null,
            "order": null,
            "overflow": null,
            "overflow_x": null,
            "overflow_y": null,
            "padding": null,
            "right": null,
            "top": null,
            "visibility": null,
            "width": null
          }
        },
        "496c4219b2524f35b109e80b04d237e6": {
          "model_module": "@jupyter-widgets/controls",
          "model_name": "ProgressStyleModel",
          "model_module_version": "1.5.0",
          "state": {
            "_model_module": "@jupyter-widgets/controls",
            "_model_module_version": "1.5.0",
            "_model_name": "ProgressStyleModel",
            "_view_count": null,
            "_view_module": "@jupyter-widgets/base",
            "_view_module_version": "1.2.0",
            "_view_name": "StyleView",
            "bar_color": null,
            "description_width": ""
          }
        },
        "ad7b1aac2b6b42e4bd81a59a13c443c1": {
          "model_module": "@jupyter-widgets/base",
          "model_name": "LayoutModel",
          "model_module_version": "1.2.0",
          "state": {
            "_model_module": "@jupyter-widgets/base",
            "_model_module_version": "1.2.0",
            "_model_name": "LayoutModel",
            "_view_count": null,
            "_view_module": "@jupyter-widgets/base",
            "_view_module_version": "1.2.0",
            "_view_name": "LayoutView",
            "align_content": null,
            "align_items": null,
            "align_self": null,
            "border": null,
            "bottom": null,
            "display": null,
            "flex": null,
            "flex_flow": null,
            "grid_area": null,
            "grid_auto_columns": null,
            "grid_auto_flow": null,
            "grid_auto_rows": null,
            "grid_column": null,
            "grid_gap": null,
            "grid_row": null,
            "grid_template_areas": null,
            "grid_template_columns": null,
            "grid_template_rows": null,
            "height": null,
            "justify_content": null,
            "justify_items": null,
            "left": null,
            "margin": null,
            "max_height": null,
            "max_width": null,
            "min_height": null,
            "min_width": null,
            "object_fit": null,
            "object_position": null,
            "order": null,
            "overflow": null,
            "overflow_x": null,
            "overflow_y": null,
            "padding": null,
            "right": null,
            "top": null,
            "visibility": null,
            "width": null
          }
        },
        "f561b9750c064f799c9c079544f80d02": {
          "model_module": "@jupyter-widgets/controls",
          "model_name": "DescriptionStyleModel",
          "model_module_version": "1.5.0",
          "state": {
            "_model_module": "@jupyter-widgets/controls",
            "_model_module_version": "1.5.0",
            "_model_name": "DescriptionStyleModel",
            "_view_count": null,
            "_view_module": "@jupyter-widgets/base",
            "_view_module_version": "1.2.0",
            "_view_name": "StyleView",
            "description_width": ""
          }
        }
      }
    }
  },
  "cells": [
    {
      "cell_type": "markdown",
      "source": [
        "![](https://drive.google.com/uc?export=view&id=1iCBHGPpuFegJo89eRIE2SK-UbTZPMde2)\n",
        "\n",
        "\n"
      ],
      "metadata": {
        "id": "Uv7FcMD9Zwgg"
      }
    },
    {
      "cell_type": "markdown",
      "source": [
        "A tutorial presented at the [WIDS Geneva](https://widsgeneva.ch/) 2024 by Sabrina Amrouche, ZYTLYN Technologies.\n",
        "\n",
        "© ZYTLYN Technologies. Apache License 2.0."
      ],
      "metadata": {
        "id": "GfTRRiTqSCrn"
      }
    },
    {
      "cell_type": "markdown",
      "source": [
        "In this workshop we will :\n",
        "\n",
        "\n",
        "*   Cover the basics of time series forecasting\n",
        "*   Use the open source darts library to test few models\n",
        "*   Boost our baselines using data and model tricks\n",
        "\n",
        "\n"
      ],
      "metadata": {
        "id": "7LYLaTv3TL72"
      }
    },
    {
      "cell_type": "markdown",
      "source": [
        "# The Dataset\n",
        "\n",
        "\n",
        "Argo Solutions - A leading technology company in Latin America provided a dataset simulating real corporate travel systems focusing on flights during a weekend long competition: [Travel Dataset - Datathon 2019](https://www.kaggle.com/competitions/tourism2/overview).\n",
        "\n",
        "**The raw dataset is un-aggregated. In this workshop you are using the monthly aggregated data.**\n",
        "\n",
        "You are encouraged to later explore more datasets, here few of the most famous ones for TSF benchmarking:\n",
        "\n",
        "\n",
        "*   [m5-forecasting-accuracy](https://www.kaggle.com/competitions/m5-forecasting-accuracy): Estimate the unit sales of Walmart retail goods on Kaggle\n",
        "*   Other M competitions, data and solutions : https://github.com/Mcompetitions\n",
        "\n"
      ],
      "metadata": {
        "id": "CU1Y-2YlVItu"
      }
    },
    {
      "cell_type": "code",
      "source": [
        "# Run the code below to access cloud data files from the public bucket created for this workshop\n",
        "from google.colab import auth\n",
        "auth.authenticate_user()"
      ],
      "metadata": {
        "id": "5mk_RD25lQV7"
      },
      "execution_count": 1,
      "outputs": []
    },
    {
      "cell_type": "code",
      "source": [
        "import pandas as pd\n",
        "\n",
        "df=pd.read_csv(\"gs://travel_data_wids/flights_data.csv\")\n",
        "df.head()"
      ],
      "metadata": {
        "colab": {
          "base_uri": "https://localhost:8080/",
          "height": 206
        },
        "id": "H_GCVnDfyILE",
        "outputId": "1aa10207-1320-4043-ea4f-3d90d48ee60d"
      },
      "execution_count": 2,
      "outputs": [
        {
          "output_type": "execute_result",
          "data": {
            "text/plain": [
              "         origin    destination     date  passengers\n",
              "0  Aracaju (SE)  Brasilia (DF)   2019-9          45\n",
              "1  Aracaju (SE)  Brasilia (DF)  2019-10         235\n",
              "2  Aracaju (SE)  Brasilia (DF)  2019-11         198\n",
              "3  Aracaju (SE)  Brasilia (DF)  2019-12         179\n",
              "4  Aracaju (SE)  Brasilia (DF)   2020-1         197"
            ],
            "text/html": [
              "\n",
              "  <div id=\"df-217d40dc-6bd0-431c-9d36-fb84b060a59e\" class=\"colab-df-container\">\n",
              "    <div>\n",
              "<style scoped>\n",
              "    .dataframe tbody tr th:only-of-type {\n",
              "        vertical-align: middle;\n",
              "    }\n",
              "\n",
              "    .dataframe tbody tr th {\n",
              "        vertical-align: top;\n",
              "    }\n",
              "\n",
              "    .dataframe thead th {\n",
              "        text-align: right;\n",
              "    }\n",
              "</style>\n",
              "<table border=\"1\" class=\"dataframe\">\n",
              "  <thead>\n",
              "    <tr style=\"text-align: right;\">\n",
              "      <th></th>\n",
              "      <th>origin</th>\n",
              "      <th>destination</th>\n",
              "      <th>date</th>\n",
              "      <th>passengers</th>\n",
              "    </tr>\n",
              "  </thead>\n",
              "  <tbody>\n",
              "    <tr>\n",
              "      <th>0</th>\n",
              "      <td>Aracaju (SE)</td>\n",
              "      <td>Brasilia (DF)</td>\n",
              "      <td>2019-9</td>\n",
              "      <td>45</td>\n",
              "    </tr>\n",
              "    <tr>\n",
              "      <th>1</th>\n",
              "      <td>Aracaju (SE)</td>\n",
              "      <td>Brasilia (DF)</td>\n",
              "      <td>2019-10</td>\n",
              "      <td>235</td>\n",
              "    </tr>\n",
              "    <tr>\n",
              "      <th>2</th>\n",
              "      <td>Aracaju (SE)</td>\n",
              "      <td>Brasilia (DF)</td>\n",
              "      <td>2019-11</td>\n",
              "      <td>198</td>\n",
              "    </tr>\n",
              "    <tr>\n",
              "      <th>3</th>\n",
              "      <td>Aracaju (SE)</td>\n",
              "      <td>Brasilia (DF)</td>\n",
              "      <td>2019-12</td>\n",
              "      <td>179</td>\n",
              "    </tr>\n",
              "    <tr>\n",
              "      <th>4</th>\n",
              "      <td>Aracaju (SE)</td>\n",
              "      <td>Brasilia (DF)</td>\n",
              "      <td>2020-1</td>\n",
              "      <td>197</td>\n",
              "    </tr>\n",
              "  </tbody>\n",
              "</table>\n",
              "</div>\n",
              "    <div class=\"colab-df-buttons\">\n",
              "\n",
              "  <div class=\"colab-df-container\">\n",
              "    <button class=\"colab-df-convert\" onclick=\"convertToInteractive('df-217d40dc-6bd0-431c-9d36-fb84b060a59e')\"\n",
              "            title=\"Convert this dataframe to an interactive table.\"\n",
              "            style=\"display:none;\">\n",
              "\n",
              "  <svg xmlns=\"http://www.w3.org/2000/svg\" height=\"24px\" viewBox=\"0 -960 960 960\">\n",
              "    <path d=\"M120-120v-720h720v720H120Zm60-500h600v-160H180v160Zm220 220h160v-160H400v160Zm0 220h160v-160H400v160ZM180-400h160v-160H180v160Zm440 0h160v-160H620v160ZM180-180h160v-160H180v160Zm440 0h160v-160H620v160Z\"/>\n",
              "  </svg>\n",
              "    </button>\n",
              "\n",
              "  <style>\n",
              "    .colab-df-container {\n",
              "      display:flex;\n",
              "      gap: 12px;\n",
              "    }\n",
              "\n",
              "    .colab-df-convert {\n",
              "      background-color: #E8F0FE;\n",
              "      border: none;\n",
              "      border-radius: 50%;\n",
              "      cursor: pointer;\n",
              "      display: none;\n",
              "      fill: #1967D2;\n",
              "      height: 32px;\n",
              "      padding: 0 0 0 0;\n",
              "      width: 32px;\n",
              "    }\n",
              "\n",
              "    .colab-df-convert:hover {\n",
              "      background-color: #E2EBFA;\n",
              "      box-shadow: 0px 1px 2px rgba(60, 64, 67, 0.3), 0px 1px 3px 1px rgba(60, 64, 67, 0.15);\n",
              "      fill: #174EA6;\n",
              "    }\n",
              "\n",
              "    .colab-df-buttons div {\n",
              "      margin-bottom: 4px;\n",
              "    }\n",
              "\n",
              "    [theme=dark] .colab-df-convert {\n",
              "      background-color: #3B4455;\n",
              "      fill: #D2E3FC;\n",
              "    }\n",
              "\n",
              "    [theme=dark] .colab-df-convert:hover {\n",
              "      background-color: #434B5C;\n",
              "      box-shadow: 0px 1px 3px 1px rgba(0, 0, 0, 0.15);\n",
              "      filter: drop-shadow(0px 1px 2px rgba(0, 0, 0, 0.3));\n",
              "      fill: #FFFFFF;\n",
              "    }\n",
              "  </style>\n",
              "\n",
              "    <script>\n",
              "      const buttonEl =\n",
              "        document.querySelector('#df-217d40dc-6bd0-431c-9d36-fb84b060a59e button.colab-df-convert');\n",
              "      buttonEl.style.display =\n",
              "        google.colab.kernel.accessAllowed ? 'block' : 'none';\n",
              "\n",
              "      async function convertToInteractive(key) {\n",
              "        const element = document.querySelector('#df-217d40dc-6bd0-431c-9d36-fb84b060a59e');\n",
              "        const dataTable =\n",
              "          await google.colab.kernel.invokeFunction('convertToInteractive',\n",
              "                                                    [key], {});\n",
              "        if (!dataTable) return;\n",
              "\n",
              "        const docLinkHtml = 'Like what you see? Visit the ' +\n",
              "          '<a target=\"_blank\" href=https://colab.research.google.com/notebooks/data_table.ipynb>data table notebook</a>'\n",
              "          + ' to learn more about interactive tables.';\n",
              "        element.innerHTML = '';\n",
              "        dataTable['output_type'] = 'display_data';\n",
              "        await google.colab.output.renderOutput(dataTable, element);\n",
              "        const docLink = document.createElement('div');\n",
              "        docLink.innerHTML = docLinkHtml;\n",
              "        element.appendChild(docLink);\n",
              "      }\n",
              "    </script>\n",
              "  </div>\n",
              "\n",
              "\n",
              "<div id=\"df-ee541001-f209-498f-8a87-84af96137865\">\n",
              "  <button class=\"colab-df-quickchart\" onclick=\"quickchart('df-ee541001-f209-498f-8a87-84af96137865')\"\n",
              "            title=\"Suggest charts\"\n",
              "            style=\"display:none;\">\n",
              "\n",
              "<svg xmlns=\"http://www.w3.org/2000/svg\" height=\"24px\"viewBox=\"0 0 24 24\"\n",
              "     width=\"24px\">\n",
              "    <g>\n",
              "        <path d=\"M19 3H5c-1.1 0-2 .9-2 2v14c0 1.1.9 2 2 2h14c1.1 0 2-.9 2-2V5c0-1.1-.9-2-2-2zM9 17H7v-7h2v7zm4 0h-2V7h2v10zm4 0h-2v-4h2v4z\"/>\n",
              "    </g>\n",
              "</svg>\n",
              "  </button>\n",
              "\n",
              "<style>\n",
              "  .colab-df-quickchart {\n",
              "      --bg-color: #E8F0FE;\n",
              "      --fill-color: #1967D2;\n",
              "      --hover-bg-color: #E2EBFA;\n",
              "      --hover-fill-color: #174EA6;\n",
              "      --disabled-fill-color: #AAA;\n",
              "      --disabled-bg-color: #DDD;\n",
              "  }\n",
              "\n",
              "  [theme=dark] .colab-df-quickchart {\n",
              "      --bg-color: #3B4455;\n",
              "      --fill-color: #D2E3FC;\n",
              "      --hover-bg-color: #434B5C;\n",
              "      --hover-fill-color: #FFFFFF;\n",
              "      --disabled-bg-color: #3B4455;\n",
              "      --disabled-fill-color: #666;\n",
              "  }\n",
              "\n",
              "  .colab-df-quickchart {\n",
              "    background-color: var(--bg-color);\n",
              "    border: none;\n",
              "    border-radius: 50%;\n",
              "    cursor: pointer;\n",
              "    display: none;\n",
              "    fill: var(--fill-color);\n",
              "    height: 32px;\n",
              "    padding: 0;\n",
              "    width: 32px;\n",
              "  }\n",
              "\n",
              "  .colab-df-quickchart:hover {\n",
              "    background-color: var(--hover-bg-color);\n",
              "    box-shadow: 0 1px 2px rgba(60, 64, 67, 0.3), 0 1px 3px 1px rgba(60, 64, 67, 0.15);\n",
              "    fill: var(--button-hover-fill-color);\n",
              "  }\n",
              "\n",
              "  .colab-df-quickchart-complete:disabled,\n",
              "  .colab-df-quickchart-complete:disabled:hover {\n",
              "    background-color: var(--disabled-bg-color);\n",
              "    fill: var(--disabled-fill-color);\n",
              "    box-shadow: none;\n",
              "  }\n",
              "\n",
              "  .colab-df-spinner {\n",
              "    border: 2px solid var(--fill-color);\n",
              "    border-color: transparent;\n",
              "    border-bottom-color: var(--fill-color);\n",
              "    animation:\n",
              "      spin 1s steps(1) infinite;\n",
              "  }\n",
              "\n",
              "  @keyframes spin {\n",
              "    0% {\n",
              "      border-color: transparent;\n",
              "      border-bottom-color: var(--fill-color);\n",
              "      border-left-color: var(--fill-color);\n",
              "    }\n",
              "    20% {\n",
              "      border-color: transparent;\n",
              "      border-left-color: var(--fill-color);\n",
              "      border-top-color: var(--fill-color);\n",
              "    }\n",
              "    30% {\n",
              "      border-color: transparent;\n",
              "      border-left-color: var(--fill-color);\n",
              "      border-top-color: var(--fill-color);\n",
              "      border-right-color: var(--fill-color);\n",
              "    }\n",
              "    40% {\n",
              "      border-color: transparent;\n",
              "      border-right-color: var(--fill-color);\n",
              "      border-top-color: var(--fill-color);\n",
              "    }\n",
              "    60% {\n",
              "      border-color: transparent;\n",
              "      border-right-color: var(--fill-color);\n",
              "    }\n",
              "    80% {\n",
              "      border-color: transparent;\n",
              "      border-right-color: var(--fill-color);\n",
              "      border-bottom-color: var(--fill-color);\n",
              "    }\n",
              "    90% {\n",
              "      border-color: transparent;\n",
              "      border-bottom-color: var(--fill-color);\n",
              "    }\n",
              "  }\n",
              "</style>\n",
              "\n",
              "  <script>\n",
              "    async function quickchart(key) {\n",
              "      const quickchartButtonEl =\n",
              "        document.querySelector('#' + key + ' button');\n",
              "      quickchartButtonEl.disabled = true;  // To prevent multiple clicks.\n",
              "      quickchartButtonEl.classList.add('colab-df-spinner');\n",
              "      try {\n",
              "        const charts = await google.colab.kernel.invokeFunction(\n",
              "            'suggestCharts', [key], {});\n",
              "      } catch (error) {\n",
              "        console.error('Error during call to suggestCharts:', error);\n",
              "      }\n",
              "      quickchartButtonEl.classList.remove('colab-df-spinner');\n",
              "      quickchartButtonEl.classList.add('colab-df-quickchart-complete');\n",
              "    }\n",
              "    (() => {\n",
              "      let quickchartButtonEl =\n",
              "        document.querySelector('#df-ee541001-f209-498f-8a87-84af96137865 button');\n",
              "      quickchartButtonEl.style.display =\n",
              "        google.colab.kernel.accessAllowed ? 'block' : 'none';\n",
              "    })();\n",
              "  </script>\n",
              "</div>\n",
              "    </div>\n",
              "  </div>\n"
            ],
            "application/vnd.google.colaboratory.intrinsic+json": {
              "type": "dataframe",
              "variable_name": "df",
              "summary": "{\n  \"name\": \"df\",\n  \"rows\": 3253,\n  \"fields\": [\n    {\n      \"column\": \"origin\",\n      \"properties\": {\n        \"dtype\": \"category\",\n        \"num_unique_values\": 9,\n        \"samples\": [\n          \"Salvador (BH)\",\n          \"Brasilia (DF)\",\n          \"Recife (PE)\"\n        ],\n        \"semantic_type\": \"\",\n        \"description\": \"\"\n      }\n    },\n    {\n      \"column\": \"destination\",\n      \"properties\": {\n        \"dtype\": \"category\",\n        \"num_unique_values\": 9,\n        \"samples\": [\n          \"Sao Paulo (SP)\",\n          \"Campo Grande (MS)\",\n          \"Rio de Janeiro (RJ)\"\n        ],\n        \"semantic_type\": \"\",\n        \"description\": \"\"\n      }\n    },\n    {\n      \"column\": \"date\",\n      \"properties\": {\n        \"dtype\": \"object\",\n        \"num_unique_values\": 47,\n        \"samples\": [\n          \"2021-12\",\n          \"2022-12\",\n          \"2021-11\"\n        ],\n        \"semantic_type\": \"\",\n        \"description\": \"\"\n      }\n    },\n    {\n      \"column\": \"passengers\",\n      \"properties\": {\n        \"dtype\": \"number\",\n        \"std\": 71,\n        \"min\": 1,\n        \"max\": 393,\n        \"num_unique_values\": 315,\n        \"samples\": [\n          175,\n          37,\n          111\n        ],\n        \"semantic_type\": \"\",\n        \"description\": \"\"\n      }\n    }\n  ]\n}"
            }
          },
          "metadata": {},
          "execution_count": 2
        }
      ]
    },
    {
      "cell_type": "code",
      "source": [
        "df.hist()"
      ],
      "metadata": {
        "colab": {
          "base_uri": "https://localhost:8080/",
          "height": 469
        },
        "id": "dlkqWfZtafer",
        "outputId": "5215aeb3-54b3-449f-b615-141135922b2c"
      },
      "execution_count": 3,
      "outputs": [
        {
          "output_type": "execute_result",
          "data": {
            "text/plain": [
              "array([[<Axes: title={'center': 'passengers'}>]], dtype=object)"
            ]
          },
          "metadata": {},
          "execution_count": 3
        },
        {
          "output_type": "display_data",
          "data": {
            "text/plain": [
              "<Figure size 640x480 with 1 Axes>"
            ],
            "image/png": "[encoded data removed]"
          },
          "metadata": {}
        }
      ]
    },
    {
      "cell_type": "code",
      "source": [
        "target_ts=df[(df.origin==\"Rio de Janeiro (RJ)\") & (df.destination==\"Sao Paulo (SP)\")]\n",
        "target_ts.plot(x=\"date\",y=\"passengers\")"
      ],
      "metadata": {
        "colab": {
          "base_uri": "https://localhost:8080/",
          "height": 466
        },
        "id": "4TboiOHm8TZ6",
        "outputId": "edef21b1-6153-4184-cb3c-33687b033442"
      },
      "execution_count": 4,
      "outputs": [
        {
          "output_type": "execute_result",
          "data": {
            "text/plain": [
              "<Axes: xlabel='date'>"
            ]
          },
          "metadata": {},
          "execution_count": 4
        },
        {
          "output_type": "display_data",
          "data": {
            "text/plain": [
              "<Figure size 640x480 with 1 Axes>"
            ],
            "image/png": "[encoded data removed]"
          },
          "metadata": {}
        }
      ]
    },
    {
      "cell_type": "markdown",
      "source": [
        "# The toolkit : Darts by Unit8\n",
        "\n",
        "[Darts](https://github.com/unit8co/darts) is an open-source Python solution for time series forecasting and anomaly detection. As its developers put it, you can use Darts to do time series analysis and forecasting without having to worry about going through the documentation of other libraries (statsmodels, sklearn, pytorch...)\n",
        "\n",
        "Darts is a great library if you are starting with TSF as it provides an intuitive abstraction over handy analysis tools and several interesting models."
      ],
      "metadata": {
        "id": "3tMqBTFTUSIA"
      }
    },
    {
      "cell_type": "code",
      "source": [
        "# darts allows you to access a variety of ready-to-use baselines\n",
        "!pip install darts"
      ],
      "metadata": {
        "id": "bd6UZ48g0QrU"
      },
      "execution_count": null,
      "outputs": []
    },
    {
      "cell_type": "markdown",
      "source": [
        "## Quick insights"
      ],
      "metadata": {
        "id": "inIfZNxJcUGh"
      }
    },
    {
      "cell_type": "markdown",
      "source": [
        "Darts provides a TimeSeries class that allows to represent univariate or multivariate series. Converting your pandas time series to this class allows access to several interesting attributes and methods that we will use later."
      ],
      "metadata": {
        "id": "y7kMQapT-O49"
      }
    },
    {
      "cell_type": "code",
      "source": [
        "from darts import TimeSeries\n",
        "series_travel=TimeSeries.from_dataframe(target_ts,\"date\", \"passengers\")\n",
        "series_travel.freq, series_travel.duration, series_travel.is_univariate"
      ],
      "metadata": {
        "id": "w3rHegwCelwn",
        "colab": {
          "base_uri": "https://localhost:8080/"
        },
        "outputId": "1d4df463-1afe-49b6-80f7-47c83abd7971"
      },
      "execution_count": 6,
      "outputs": [
        {
          "output_type": "execute_result",
          "data": {
            "text/plain": [
              "(<MonthBegin>, Timedelta('1308 days 00:00:00'), True)"
            ]
          },
          "metadata": {},
          "execution_count": 6
        }
      ]
    },
    {
      "cell_type": "markdown",
      "source": [
        "\n",
        "### In real world, time series are often irregular.\n",
        "If we take a look at another time series present in the dataset, not all months are present.\n",
        "When using [TimeSeries](https://unit8co.github.io/darts/generated_api/darts.timeseries.html) class from darts, it checks the inherent frequency of the data, so providing no further guidance, **the following code will fail !**"
      ],
      "metadata": {
        "id": "UybuZBtwCnXr"
      }
    },
    {
      "cell_type": "code",
      "source": [
        "expl_ts=df[(df.origin==\"Rio de Janeiro (RJ)\") & (df.destination==\"Aracaju (SE)\")]\n",
        "expl_ts_darts=TimeSeries.from_dataframe(expl_ts,\"date\", \"passengers\")"
      ],
      "metadata": {
        "colab": {
          "base_uri": "https://localhost:8080/",
          "height": 359
        },
        "id": "zWEdUyJ_DoeE",
        "outputId": "9b8edbcf-44dd-49e0-90d1-80d82c994175"
      },
      "execution_count": 7,
      "outputs": [
        {
          "output_type": "stream",
          "name": "stderr",
          "text": [
            "ERROR:darts.timeseries:ValueError: The time index of the provided DataArray is missing the freq attribute, and the frequency could not be directly inferred. This probably comes from inconsistent date frequencies with missing dates. If you know the actual frequency, try setting `fill_missing_dates=True, freq=actual_frequency`. If not, try setting `fill_missing_dates=True, freq=None` to see if a frequency can be inferred.\n"
          ]
        },
        {
          "output_type": "error",
          "ename": "ValueError",
          "evalue": "The time index of the provided DataArray is missing the freq attribute, and the frequency could not be directly inferred. This probably comes from inconsistent date frequencies with missing dates. If you know the actual frequency, try setting `fill_missing_dates=True, freq=actual_frequency`. If not, try setting `fill_missing_dates=True, freq=None` to see if a frequency can be inferred.",
          "traceback": [
            "\u001b[0;31m---------------------------------------------------------------------------\u001b[0m",
            "\u001b[0;31mValueError\u001b[0m                                Traceback (most recent call last)",
            "\u001b[0;32m<ipython-input-7-9f91993450ce>\u001b[0m in \u001b[0;36m<cell line: 2>\u001b[0;34m()\u001b[0m\n\u001b[1;32m      1\u001b[0m \u001b[0mexpl_ts\u001b[0m\u001b[0;34m=\u001b[0m\u001b[0mdf\u001b[0m\u001b[0;34m[\u001b[0m\u001b[0;34m(\u001b[0m\u001b[0mdf\u001b[0m\u001b[0;34m.\u001b[0m\u001b[0morigin\u001b[0m\u001b[0;34m==\u001b[0m\u001b[0;34m\"Rio de Janeiro (RJ)\"\u001b[0m\u001b[0;34m)\u001b[0m \u001b[0;34m&\u001b[0m \u001b[0;34m(\u001b[0m\u001b[0mdf\u001b[0m\u001b[0;34m.\u001b[0m\u001b[0mdestination\u001b[0m\u001b[0;34m==\u001b[0m\u001b[0;34m\"Aracaju (SE)\"\u001b[0m\u001b[0;34m)\u001b[0m\u001b[0;34m]\u001b[0m\u001b[0;34m\u001b[0m\u001b[0;34m\u001b[0m\u001b[0m\n\u001b[0;32m----> 2\u001b[0;31m \u001b[0mexpl_ts_darts\u001b[0m\u001b[0;34m=\u001b[0m\u001b[0mTimeSeries\u001b[0m\u001b[0;34m.\u001b[0m\u001b[0mfrom_dataframe\u001b[0m\u001b[0;34m(\u001b[0m\u001b[0mexpl_ts\u001b[0m\u001b[0;34m,\u001b[0m\u001b[0;34m\"date\"\u001b[0m\u001b[0;34m,\u001b[0m \u001b[0;34m\"passengers\"\u001b[0m\u001b[0;34m)\u001b[0m\u001b[0;34m\u001b[0m\u001b[0;34m\u001b[0m\u001b[0m\n\u001b[0m",
            "\u001b[0;32m/usr/local/lib/python3.10/dist-packages/darts/timeseries.py\u001b[0m in \u001b[0;36mfrom_dataframe\u001b[0;34m(cls, df, time_col, value_cols, fill_missing_dates, freq, fillna_value, static_covariates, hierarchy)\u001b[0m\n\u001b[1;32m    739\u001b[0m         )\n\u001b[1;32m    740\u001b[0m \u001b[0;34m\u001b[0m\u001b[0m\n\u001b[0;32m--> 741\u001b[0;31m         return cls.from_xarray(\n\u001b[0m\u001b[1;32m    742\u001b[0m             \u001b[0mxa\u001b[0m\u001b[0;34m=\u001b[0m\u001b[0mxa\u001b[0m\u001b[0;34m,\u001b[0m\u001b[0;34m\u001b[0m\u001b[0;34m\u001b[0m\u001b[0m\n\u001b[1;32m    743\u001b[0m             \u001b[0mfill_missing_dates\u001b[0m\u001b[0;34m=\u001b[0m\u001b[0mfill_missing_dates\u001b[0m\u001b[0;34m,\u001b[0m\u001b[0;34m\u001b[0m\u001b[0;34m\u001b[0m\u001b[0m\n",
            "\u001b[0;32m/usr/local/lib/python3.10/dist-packages/darts/timeseries.py\u001b[0m in \u001b[0;36mfrom_xarray\u001b[0;34m(cls, xa, fill_missing_dates, freq, fillna_value)\u001b[0m\n\u001b[1;32m    468\u001b[0m             \u001b[0;32mreturn\u001b[0m \u001b[0mcls\u001b[0m\u001b[0;34m(\u001b[0m\u001b[0mxa_\u001b[0m\u001b[0;34m)\u001b[0m\u001b[0;34m\u001b[0m\u001b[0;34m\u001b[0m\u001b[0m\n\u001b[1;32m    469\u001b[0m         \u001b[0;32melse\u001b[0m\u001b[0;34m:\u001b[0m\u001b[0;34m\u001b[0m\u001b[0;34m\u001b[0m\u001b[0m\n\u001b[0;32m--> 470\u001b[0;31m             \u001b[0;32mreturn\u001b[0m \u001b[0mcls\u001b[0m\u001b[0;34m(\u001b[0m\u001b[0mxa_\u001b[0m\u001b[0;34m.\u001b[0m\u001b[0mastype\u001b[0m\u001b[0;34m(\u001b[0m\u001b[0mnp\u001b[0m\u001b[0;34m.\u001b[0m\u001b[0mfloat64\u001b[0m\u001b[0;34m)\u001b[0m\u001b[0;34m)\u001b[0m\u001b[0;34m\u001b[0m\u001b[0;34m\u001b[0m\u001b[0m\n\u001b[0m\u001b[1;32m    471\u001b[0m \u001b[0;34m\u001b[0m\u001b[0m\n\u001b[1;32m    472\u001b[0m     \u001b[0;34m@\u001b[0m\u001b[0mclassmethod\u001b[0m\u001b[0;34m\u001b[0m\u001b[0;34m\u001b[0m\u001b[0m\n",
            "\u001b[0;32m/usr/local/lib/python3.10/dist-packages/darts/timeseries.py\u001b[0m in \u001b[0;36m__init__\u001b[0;34m(self, xa, copy)\u001b[0m\n\u001b[1;32m    184\u001b[0m \u001b[0;34m\u001b[0m\u001b[0m\n\u001b[1;32m    185\u001b[0m             \u001b[0;32mif\u001b[0m \u001b[0mself\u001b[0m\u001b[0;34m.\u001b[0m\u001b[0m_freq\u001b[0m \u001b[0;32mis\u001b[0m \u001b[0;32mNone\u001b[0m\u001b[0;34m:\u001b[0m\u001b[0;34m\u001b[0m\u001b[0;34m\u001b[0m\u001b[0m\n\u001b[0;32m--> 186\u001b[0;31m                 raise_log(\n\u001b[0m\u001b[1;32m    187\u001b[0m                     ValueError(\n\u001b[1;32m    188\u001b[0m                         \u001b[0;34m\"The time index of the provided DataArray is missing the freq attribute, and the frequency \"\u001b[0m\u001b[0;34m\u001b[0m\u001b[0;34m\u001b[0m\u001b[0m\n",
            "\u001b[0;32m/usr/local/lib/python3.10/dist-packages/darts/logging.py\u001b[0m in \u001b[0;36mraise_log\u001b[0;34m(exception, logger)\u001b[0m\n\u001b[1;32m    127\u001b[0m     \u001b[0mlogger\u001b[0m\u001b[0;34m.\u001b[0m\u001b[0merror\u001b[0m\u001b[0;34m(\u001b[0m\u001b[0mexception_type\u001b[0m \u001b[0;34m+\u001b[0m \u001b[0;34m\": \"\u001b[0m \u001b[0;34m+\u001b[0m \u001b[0mmessage\u001b[0m\u001b[0;34m)\u001b[0m\u001b[0;34m\u001b[0m\u001b[0;34m\u001b[0m\u001b[0m\n\u001b[1;32m    128\u001b[0m \u001b[0;34m\u001b[0m\u001b[0m\n\u001b[0;32m--> 129\u001b[0;31m     \u001b[0;32mraise\u001b[0m \u001b[0mexception\u001b[0m\u001b[0;34m\u001b[0m\u001b[0;34m\u001b[0m\u001b[0m\n\u001b[0m\u001b[1;32m    130\u001b[0m \u001b[0;34m\u001b[0m\u001b[0m\n\u001b[1;32m    131\u001b[0m \u001b[0;34m\u001b[0m\u001b[0m\n",
            "\u001b[0;31mValueError\u001b[0m: The time index of the provided DataArray is missing the freq attribute, and the frequency could not be directly inferred. This probably comes from inconsistent date frequencies with missing dates. If you know the actual frequency, try setting `fill_missing_dates=True, freq=actual_frequency`. If not, try setting `fill_missing_dates=True, freq=None` to see if a frequency can be inferred."
          ]
        }
      ]
    },
    {
      "cell_type": "markdown",
      "source": [
        "Offset alias are defined in pandas time series [page](https://pandas.pydata.org/pandas-docs/stable/user_guide/timeseries.html#offset-aliases). There are several frequencies aliases and for our use case, MS -> month start frequency will be enough"
      ],
      "metadata": {
        "id": "CPFd_UmnFVcP"
      }
    },
    {
      "cell_type": "code",
      "source": [
        "expl_ts_darts=TimeSeries.from_dataframe(expl_ts,\"date\", \"passengers\",fill_missing_dates=True, freq=\"MS\")\n",
        "expl_ts_darts.freq, expl_ts_darts.duration, expl_ts_darts.is_univariate"
      ],
      "metadata": {
        "colab": {
          "base_uri": "https://localhost:8080/"
        },
        "id": "lZ1baYsjD6ax",
        "outputId": "bab582b1-655e-4385-930b-4bb117ed5024"
      },
      "execution_count": 8,
      "outputs": [
        {
          "output_type": "execute_result",
          "data": {
            "text/plain": [
              "(<MonthBegin>, Timedelta('1399 days 00:00:00'), True)"
            ]
          },
          "metadata": {},
          "execution_count": 8
        }
      ]
    },
    {
      "cell_type": "markdown",
      "source": [
        "### Checking Seasonality and Trend"
      ],
      "metadata": {
        "id": "lszyq77Zkf6X"
      }
    },
    {
      "cell_type": "code",
      "source": [
        "from darts.utils.statistics import extract_trend_and_seasonality\n",
        "# decompose\n",
        "trend,seasonal=extract_trend_and_seasonality(series_travel)\n",
        "# plot\n",
        "seasonal.plot(label=\"Seasonal component\")\n",
        "trend.plot(new_plot=True,label=\"Trend component\")"
      ],
      "metadata": {
        "colab": {
          "base_uri": "https://localhost:8080/",
          "height": 943
        },
        "id": "XVBV0nNdhSf7",
        "outputId": "8dd27152-6e06-4ea1-b624-6dadd30dcf15"
      },
      "execution_count": 9,
      "outputs": [
        {
          "output_type": "execute_result",
          "data": {
            "text/plain": [
              "<Axes: xlabel='date'>"
            ]
          },
          "metadata": {},
          "execution_count": 9
        },
        {
          "output_type": "display_data",
          "data": {
            "text/plain": [
              "<Figure size 640x480 with 1 Axes>"
            ],
            "image/png": "[encoded data removed]"
          },
          "metadata": {}
        },
        {
          "output_type": "display_data",
          "data": {
            "text/plain": [
              "<Figure size 640x480 with 1 Axes>"
            ],
            "image/png": "[encoded data removed]"
          },
          "metadata": {}
        }
      ]
    },
    {
      "cell_type": "markdown",
      "source": [
        "### Exercise #1\n",
        "can you do the same with statsmodels? Fill in the gaps"
      ],
      "metadata": {
        "id": "1jk9KsxWlDZ6"
      }
    },
    {
      "cell_type": "code",
      "source": [
        "from statsmodels.tsa.seasonal import seasonal_decompose\n",
        "\n",
        "decompose_result_mult = seasonal_decompose(target_ts[[\"passengers\"]],model=\"...\",period=...)\n",
        "\n",
        "decompose_result_mult.plot();"
      ],
      "metadata": {
        "id": "WRZSSBuDlaNx"
      },
      "execution_count": null,
      "outputs": []
    },
    {
      "cell_type": "markdown",
      "source": [
        "More statistics functionalities to check out --> [darts.utils.statistics](https://unit8co.github.io/darts/generated_api/darts.utils.statistics.html)"
      ],
      "metadata": {
        "id": "PESOaW8SnqlJ"
      }
    },
    {
      "cell_type": "markdown",
      "source": [
        "# Forecasting"
      ],
      "metadata": {
        "id": "Iioa-Xo4n3m4"
      }
    },
    {
      "cell_type": "code",
      "source": [
        "def am_i_done(mse_score_improv,mse_score):\n",
        "  \"\"\"Tell visualy if you nailed your exercice\"\"\"\n",
        "  if mse_score_improv<mse_score:\n",
        "    print(\"\\033[92m\\\"Great Job!!\\\"\\033[0m\")\n",
        "  else:\n",
        "    print(\"\\x1b[31m\\\"Keep going, you can do it!\\\"\\x1b[0m\")\n",
        "\n",
        "# our prediction horizon is set here\n",
        "prediction_horizon=12\n",
        "# we split our data such as we have a test set of size {prediction_horizon}\n",
        "train_travel, val_travel = series_travel[:-prediction_horizon], series_travel[-prediction_horizon:]"
      ],
      "metadata": {
        "id": "KTK7w5ZA0ozO"
      },
      "execution_count": 13,
      "outputs": []
    },
    {
      "cell_type": "code",
      "source": [
        "from darts.dataprocessing.transformers import Scaler\n",
        "# Scaling is a very crutial step in our modeling\n",
        "# By default, Darts scaler uses sklearn.preprocessing.MinMaxScaler(feature_range=(0, 1))\n",
        "scaler = Scaler()\n",
        "train_travel_scaled = scaler.fit_transform(train_travel)\n",
        "val_travel_scaled = scaler.transform(val_travel)\n"
      ],
      "metadata": {
        "id": "cITJ3urS5Tab"
      },
      "execution_count": 14,
      "outputs": []
    },
    {
      "cell_type": "markdown",
      "source": [
        "## A simple Linear Regression"
      ],
      "metadata": {
        "id": "u6h3vbOcHLJw"
      }
    },
    {
      "cell_type": "code",
      "source": [
        "from darts.models import LinearRegressionModel\n",
        "from darts.metrics import  mse\n",
        "\n",
        "# Define a model\n",
        "model = LinearRegressionModel(\n",
        "    lags=12,\n",
        ")\n",
        "# Train it\n",
        "model.fit(train_travel_scaled)\n",
        "# Generate predictions\n",
        "model_predictions=model.predict(series=train_travel_scaled,n=prediction_horizon)\n",
        "scaled_back_predictions=scaler.inverse_transform(model_predictions)\n",
        "\n",
        "mse_score=round(mse(val_travel_scaled,model_predictions),2)\n",
        "\n",
        "series_travel.plot(label=\"actual\")\n",
        "scaled_back_predictions.plot(label=f\"predicted with MSE {mse_score}\")"
      ],
      "metadata": {
        "id": "3o6P8eJQHRNL",
        "colab": {
          "base_uri": "https://localhost:8080/",
          "height": 488
        },
        "outputId": "1bd6dfbd-902d-4a01-f4f8-915a7c633dad"
      },
      "execution_count": 15,
      "outputs": [
        {
          "output_type": "execute_result",
          "data": {
            "text/plain": [
              "<Axes: xlabel='date'>"
            ]
          },
          "metadata": {},
          "execution_count": 15
        },
        {
          "output_type": "display_data",
          "data": {
            "text/plain": [
              "<Figure size 640x480 with 1 Axes>"
            ],
            "image/png": "[encoded data removed]"
          },
          "metadata": {}
        }
      ]
    },
    {
      "cell_type": "markdown",
      "source": [
        "## Exercise #2\n",
        "\n",
        "Can you make this model better? Fill in the gaps\n",
        "\n",
        "**Hint:** have a look at what the [LinearRegressionModel](https://unit8co.github.io/darts/generated_api/darts.models.forecasting.linear_regression_model.html) can take as parameters.\n",
        "\n",
        "`linear_regression_model.LinearRegressionModel(lags=None, lags_past_covariates=None, lags_future_covariates=None, output_chunk_length=1, add_encoders=None, likelihood=None, .... )`"
      ],
      "metadata": {
        "id": "0D7g8zHgtQAq"
      }
    },
    {
      "cell_type": "code",
      "source": [
        "model = LinearRegressionModel(\n",
        "    lags=12,\n",
        "    #some_awesome_feature_here=...,\n",
        "    #some_other_awesome_feature_here=...,\n",
        "  )\n",
        "model.fit(train_travel_scaled)\n",
        "# Generate predictions\n",
        "model_predictions=model.predict(series=train_travel_scaled,n=prediction_horizon)\n",
        "scaled_back_predictions=scaler.inverse_transform(model_predictions)\n",
        "\n",
        "mse_score_improv=round(mse(val_travel_scaled,model_predictions),2)\n",
        "am_i_done(mse_score_improv,mse_score)\n",
        "\n",
        "series_travel.plot(label=\"actual\")\n",
        "scaled_back_predictions.plot(label=f\"predicted {mse_score_improv}\")"
      ],
      "metadata": {
        "id": "GYsVePOuuw0J"
      },
      "execution_count": null,
      "outputs": []
    },
    {
      "cell_type": "code",
      "source": [
        "# @title Solution\n",
        "# Are you done trying?\n",
        "# Sure, sure?\n",
        "# ok..\n",
        "# try this model then\n",
        "# Darts Encoders: using covariates for free -> deep learning models in Darts have a built-in functionality to use such covariates out of the box.\n",
        "model = LinearRegressionModel(\n",
        "    lags=12,\n",
        "    lags_future_covariates=(12,36),\n",
        "    add_encoders={\n",
        "       \"cyclic\": {\"future\": [ \"weekofyear\"]}, #This reads : The weekofyear should be used as a future covariate, with a cyclic (sin/cos) encoding.\n",
        "    },\n",
        ")\n",
        "\n",
        "model.fit(train_travel_scaled)\n",
        "# Generate predictions\n",
        "model_predictions=model.predict(series=train_travel_scaled,n=prediction_horizon)\n",
        "scaled_back_predictions=scaler.inverse_transform(model_predictions)\n",
        "\n",
        "mse_score_improv=round(mse(val_travel_scaled,model_predictions),2)\n",
        "am_i_done(mse_score_improv,mse_score)\n",
        "series_travel.plot(label=\"actual\")\n",
        "scaled_back_predictions.plot(label=f\"predicted {mse_score_improv}\")"
      ],
      "metadata": {
        "id": "MANd69yprpDj",
        "cellView": "form"
      },
      "execution_count": null,
      "outputs": []
    },
    {
      "cell_type": "markdown",
      "source": [
        "## Facebook Prophet\n",
        "[Prophet](https://facebook.github.io/prophet/) is a procedure for forecasting time series data based on an additive model where non-linear trends are fit with yearly, weekly, and daily seasonality, plus holiday effects."
      ],
      "metadata": {
        "id": "ElhZSbsXHvCB"
      }
    },
    {
      "cell_type": "code",
      "source": [
        "from darts.models import Prophet\n",
        "model=Prophet()\n",
        "model.fit(train_travel_scaled)\n",
        "model_predictions= model.predict(prediction_horizon)\n",
        "mse_score=round(mse(val_travel_scaled,model_predictions),3)\n",
        "\n",
        "scaled_back_predictions=scaler.inverse_transform(model_predictions)\n",
        "series_travel.plot(label=\"actual\")\n",
        "scaled_back_predictions.plot(label=f\"predicted with MSE {mse_score}\")\n"
      ],
      "metadata": {
        "colab": {
          "base_uri": "https://localhost:8080/",
          "height": 717
        },
        "id": "bluwJhFK3U6t",
        "outputId": "f3cb85e7-b19a-4a08-8b03-83487a9d743c"
      },
      "execution_count": 20,
      "outputs": [
        {
          "output_type": "stream",
          "name": "stderr",
          "text": [
            "INFO:prophet:Disabling weekly seasonality. Run prophet with weekly_seasonality=True to override this.\n",
            "INFO:prophet:Disabling daily seasonality. Run prophet with daily_seasonality=True to override this.\n",
            "INFO:prophet:n_changepoints greater than number of observations. Using 24.\n",
            "DEBUG:cmdstanpy:input tempfile: /tmp/tmp6ls7ml3l/guuyoqf0.json\n",
            "DEBUG:cmdstanpy:input tempfile: /tmp/tmp6ls7ml3l/xj6hrqco.json\n",
            "DEBUG:cmdstanpy:idx 0\n",
            "DEBUG:cmdstanpy:running CmdStan, num_threads: None\n",
            "DEBUG:cmdstanpy:CmdStan args: ['/usr/local/lib/python3.10/dist-packages/prophet/stan_model/prophet_model.bin', 'random', 'seed=90955', 'data', 'file=/tmp/tmp6ls7ml3l/guuyoqf0.json', 'init=/tmp/tmp6ls7ml3l/xj6hrqco.json', 'output', 'file=/tmp/tmp6ls7ml3l/prophet_model3xls7_55/prophet_model-20240308101004.csv', 'method=optimize', 'algorithm=newton', 'iter=10000']\n",
            "10:10:04 - cmdstanpy - INFO - Chain [1] start processing\n",
            "INFO:cmdstanpy:Chain [1] start processing\n",
            "10:10:05 - cmdstanpy - INFO - Chain [1] done processing\n",
            "INFO:cmdstanpy:Chain [1] done processing\n"
          ]
        },
        {
          "output_type": "execute_result",
          "data": {
            "text/plain": [
              "<Axes: xlabel='date'>"
            ]
          },
          "metadata": {},
          "execution_count": 20
        },
        {
          "output_type": "display_data",
          "data": {
            "text/plain": [
              "<Figure size 640x480 with 1 Axes>"
            ],
            "image/png": "[encoded data removed]"
          },
          "metadata": {}
        }
      ]
    },
    {
      "cell_type": "markdown",
      "source": [
        "## Exercise #3\n",
        "Same as before, try figuring out where the model could be helped a bit"
      ],
      "metadata": {
        "id": "etLVL_hB6Anw"
      }
    },
    {
      "cell_type": "code",
      "source": [
        "#model=Prophet(cool_feature={\n",
        "#    'cool_sub_feature1': {'future': ...},\n",
        "#    'cool_sub_feature2': ...,\n",
        "#    ...,\n",
        "#    })"
      ],
      "metadata": {
        "id": "nNmcSc1-6jJB"
      },
      "execution_count": null,
      "outputs": []
    },
    {
      "cell_type": "code",
      "source": [
        "# @title Solution\n",
        "#A large number of future covariates can be automatically generated with add_encoders.\n",
        "\n",
        "model=Prophet(add_seasonalities={\n",
        "        'name':\"monthly_seasonality\",\n",
        "        'seasonal_periods':4,\n",
        "        'fourier_order':5\n",
        "        },country_holidays=\"BR\") # checkout https://github.com/dr-prodigy/python-holidays\n",
        "model.fit(train_travel_scaled)\n",
        "model_predictions= model.predict(prediction_horizon)\n",
        "mse_score=round(mse(val_travel_scaled,model_predictions),3)\n",
        "\n",
        "scaled_back_predictions=scaler.inverse_transform(model_predictions)\n",
        "series_travel.plot(label=\"actual\")\n",
        "scaled_back_predictions.plot(label=f\"predicted with MSE {mse_score}\")"
      ],
      "metadata": {
        "id": "M1ChbddRHsxR",
        "cellView": "form"
      },
      "execution_count": null,
      "outputs": []
    },
    {
      "cell_type": "markdown",
      "source": [
        "## Moving on to Neural Nets\n",
        "[N-BEATS](https://arxiv.org/abs/1905.10437) Time-Series Forecasting with Neural Basis Expansion.\n",
        "\n",
        "\n",
        "![](https://user-images.githubusercontent.com/49645682/129486828-0afa279c-7874-4e39-89e5-c40fbf7a0a80.png)\n",
        "\n",
        "\n",
        "\n",
        "\n"
      ],
      "metadata": {
        "id": "t7X-wY3lH_ag"
      }
    },
    {
      "cell_type": "code",
      "source": [
        "from darts.models import NBEATSModel\n",
        "from darts.metrics import  mse\n",
        "\n",
        "model_name=\"travel_model\"\n",
        "model=NBEATSModel(\n",
        "    input_chunk_length=12,\n",
        "    output_chunk_length=prediction_horizon,\n",
        "    generic_architecture=False,\n",
        "    num_blocks=3,\n",
        "    num_layers=4,\n",
        "    layer_widths=512,\n",
        "    n_epochs=100,\n",
        "    nr_epochs_val_period=1,\n",
        "    random_state=42,\n",
        "    model_name=model_name,\n",
        "    save_checkpoints=True,\n",
        "    force_reset=True,\n",
        ")\n",
        "\n",
        "model.fit(train_travel_scaled, epochs=50, verbose=True)\n",
        "model_predictions=model.predict(series=train_travel_scaled,n=prediction_horizon)\n",
        "\n",
        "\n",
        "mse_score=round(mse(val_travel_scaled,model_predictions),3)\n",
        "\n",
        "\n",
        "scaled_back_predictions=scaler.inverse_transform(model_predictions)\n",
        "series_travel.plot(label=\"actual\")\n",
        "scaled_back_predictions.plot(label=f\"predicted with MSE {mse_score}\")\n",
        "\n"
      ],
      "metadata": {
        "colab": {
          "base_uri": "https://localhost:8080/",
          "height": 917,
          "referenced_widgets": [
            "00a4363b51a6462eb28446f1abe30d57",
            "909183aeed264d91b2917671fb083e40",
            "bec45c89dbb441f59ef1ea3b57e93c34",
            "54d4f4c32b0c4417a7ffab1abec7e2af",
            "346b427e7d4d4e01af4913c255dfd1de",
            "bb7559ecbdf845f58b9390da0757d459",
            "f147a637b1c241a48a6675debebb7440",
            "e1eec3107a0a498aac857289ff555b91",
            "bb36d76ab45649849a05e3a9a73e6ee0",
            "175f9f4ce9ff4a4a9bf9831e622de7e0",
            "25e2f695089e465685316eae921e12ea",
            "2420543c666d48c0af396a3cd0717dec",
            "15acc48c62b546ca9bb5e60a7669416f",
            "503ccb44dce341c1b9e87dcad96d54b3",
            "e5d4bf721f9847af93410d8b2843bb64",
            "c9ad145928f24b96b0a483fca47739a6",
            "7576f8984d4a49f898da963de91a2d5b",
            "29c5c8d429164c2e9496ba7e7173197b",
            "e9826993544a42d3b3012827308b1968",
            "6df243d420274612bfb24864dd93dcd2",
            "37fc4beb5e45455987960950caafb0e6",
            "fe029104dd35497da307f5b6c0509e88"
          ]
        },
        "id": "fwy125TH67HN",
        "outputId": "40b7b78d-6a5a-4d3b-9f73-514d2157e4ba"
      },
      "execution_count": 42,
      "outputs": [
        {
          "output_type": "stream",
          "name": "stderr",
          "text": [
            "INFO:pytorch_lightning.utilities.rank_zero:GPU available: False, used: False\n",
            "INFO:pytorch_lightning.utilities.rank_zero:TPU available: False, using: 0 TPU cores\n",
            "INFO:pytorch_lightning.utilities.rank_zero:IPU available: False, using: 0 IPUs\n",
            "INFO:pytorch_lightning.utilities.rank_zero:HPU available: False, using: 0 HPUs\n",
            "INFO:pytorch_lightning.callbacks.model_summary:\n",
            "  | Name          | Type             | Params\n",
            "---------------------------------------------------\n",
            "0 | criterion     | MSELoss          | 0     \n",
            "1 | train_metrics | MetricCollection | 0     \n",
            "2 | val_metrics   | MetricCollection | 0     \n",
            "3 | stacks        | ModuleList       | 1.6 M \n",
            "---------------------------------------------------\n",
            "1.6 M     Trainable params\n",
            "6.0 K     Non-trainable params\n",
            "1.6 M     Total params\n",
            "6.416     Total estimated model params size (MB)\n"
          ]
        },
        {
          "output_type": "display_data",
          "data": {
            "text/plain": [
              "Training: |          | 0/? [00:00<?, ?it/s]"
            ],
            "application/vnd.jupyter.widget-view+json": {
              "version_major": 2,
              "version_minor": 0,
              "model_id": "00a4363b51a6462eb28446f1abe30d57"
            }
          },
          "metadata": {}
        },
        {
          "output_type": "stream",
          "name": "stderr",
          "text": [
            "INFO:pytorch_lightning.utilities.rank_zero:`Trainer.fit` stopped: `max_epochs=50` reached.\n",
            "INFO:pytorch_lightning.utilities.rank_zero:GPU available: False, used: False\n",
            "INFO:pytorch_lightning.utilities.rank_zero:TPU available: False, using: 0 TPU cores\n",
            "INFO:pytorch_lightning.utilities.rank_zero:IPU available: False, using: 0 IPUs\n",
            "INFO:pytorch_lightning.utilities.rank_zero:HPU available: False, using: 0 HPUs\n"
          ]
        },
        {
          "output_type": "display_data",
          "data": {
            "text/plain": [
              "Predicting: |          | 0/? [00:00<?, ?it/s]"
            ],
            "application/vnd.jupyter.widget-view+json": {
              "version_major": 2,
              "version_minor": 0,
              "model_id": "2420543c666d48c0af396a3cd0717dec"
            }
          },
          "metadata": {}
        },
        {
          "output_type": "execute_result",
          "data": {
            "text/plain": [
              "<Axes: xlabel='date'>"
            ]
          },
          "metadata": {},
          "execution_count": 42
        },
        {
          "output_type": "display_data",
          "data": {
            "text/plain": [
              "<Figure size 640x480 with 1 Axes>"
            ],
            "image/png": "[encoded data removed]"
          },
          "metadata": {}
        }
      ]
    },
    {
      "cell_type": "markdown",
      "source": [
        "### A global N-BEATS"
      ],
      "metadata": {
        "id": "pVlnyjYx1Aaj"
      }
    },
    {
      "cell_type": "code",
      "source": [
        "def get_scaled_training_set(df):\n",
        "  train_ts=[]\n",
        "  groups=df.groupby([\"origin\",\"destination\"])\n",
        "  for k,od_df in groups:\n",
        "      ts=TimeSeries.from_dataframe(od_df,\"date\", \"passengers\",fill_missing_dates=True, freq=\"MS\")\n",
        "      scaler = Scaler()\n",
        "      train_ts.append(scaler.fit_transform(ts[:-prediction_horizon]))\n",
        "  return train_ts"
      ],
      "metadata": {
        "id": "9t_Gdk9O023m"
      },
      "execution_count": 56,
      "outputs": []
    },
    {
      "cell_type": "code",
      "source": [
        "train_ts=get_scaled_training_set(df)"
      ],
      "metadata": {
        "id": "Qa5W3mMS1ggd"
      },
      "execution_count": 57,
      "outputs": []
    },
    {
      "cell_type": "code",
      "source": [
        "from darts.models import NBEATSModel\n",
        "from darts.metrics import  mse\n",
        "\n",
        "model=NBEATSModel(\n",
        "    input_chunk_length=12,\n",
        "    output_chunk_length=prediction_horizon,\n",
        "    generic_architecture=False,\n",
        "    num_blocks=3,\n",
        "    num_layers=4,\n",
        "    layer_widths=512,\n",
        "    nr_epochs_val_period=1,\n",
        "    random_state=42)\n",
        "model.fit(train_ts, epochs=50, verbose=True)\n",
        "\n",
        "model_predictions=model.predict(series=train_travel_scaled,n=prediction_horizon)\n",
        "\n",
        "mse_score=round(mse(val_travel_scaled,model_predictions),3)\n",
        "\n",
        "\n",
        "scaled_back_predictions=scaler.inverse_transform(model_predictions)\n",
        "# Plotting\n",
        "series_travel.plot(label=\"actual\")\n",
        "scaled_back_predictions.plot(label=f\"forecast global MSE {mse_score}\")"
      ],
      "metadata": {
        "colab": {
          "base_uri": "https://localhost:8080/",
          "height": 917,
          "referenced_widgets": [
            "e27fc23bca0440d0964fa8121eff95e6",
            "0d9a03fa84d4491aa5d28938bedbf13c",
            "43e6d6c22eef4d73aa5c7dc8514cd8c6",
            "4299c37623124d8cb7c07b20422da78f",
            "0961a2a8a66145a8990679d2904682f1",
            "3e06408b40c14c368a1247145734cf72",
            "42f5452fb3b649c6a6f7cc91cf023788",
            "023da4f6b99f43ebb20fb2eafb86ac13",
            "d821409b390e41c0a565457a03c6bd44",
            "b002b0b103fc47499bd597eeeeb8d8c3",
            "0559c89831854ce3ae58b54ec02d934c",
            "ef76eda4752342ef927af149b8880df4",
            "a186e4b87d8444cab41d81cedbaeb9a5",
            "4cd9447629064b7b906013cdbb9df09f",
            "b0f86115a7f5455f8370c89eadd23772",
            "6356c53ecdd14ffeb52eeacd9e5479d5",
            "1e77d91cbb3e471c9f91f3bf1d8bacaf",
            "79279882d0f84915aba03df84d56ae42",
            "76f19dc91d77453c9a44a541574894c5",
            "496c4219b2524f35b109e80b04d237e6",
            "ad7b1aac2b6b42e4bd81a59a13c443c1",
            "f561b9750c064f799c9c079544f80d02"
          ]
        },
        "id": "Ocy3niQu1gdn",
        "outputId": "d356b18e-c624-4f6f-94d8-083b516d69ac"
      },
      "execution_count": 58,
      "outputs": [
        {
          "output_type": "stream",
          "name": "stderr",
          "text": [
            "INFO:pytorch_lightning.utilities.rank_zero:GPU available: False, used: False\n",
            "INFO:pytorch_lightning.utilities.rank_zero:TPU available: False, using: 0 TPU cores\n",
            "INFO:pytorch_lightning.utilities.rank_zero:IPU available: False, using: 0 IPUs\n",
            "INFO:pytorch_lightning.utilities.rank_zero:HPU available: False, using: 0 HPUs\n",
            "INFO:pytorch_lightning.callbacks.model_summary:\n",
            "  | Name          | Type             | Params\n",
            "---------------------------------------------------\n",
            "0 | criterion     | MSELoss          | 0     \n",
            "1 | train_metrics | MetricCollection | 0     \n",
            "2 | val_metrics   | MetricCollection | 0     \n",
            "3 | stacks        | ModuleList       | 1.6 M \n",
            "---------------------------------------------------\n",
            "1.6 M     Trainable params\n",
            "6.0 K     Non-trainable params\n",
            "1.6 M     Total params\n",
            "6.416     Total estimated model params size (MB)\n"
          ]
        },
        {
          "output_type": "display_data",
          "data": {
            "text/plain": [
              "Training: |          | 0/? [00:00<?, ?it/s]"
            ],
            "application/vnd.jupyter.widget-view+json": {
              "version_major": 2,
              "version_minor": 0,
              "model_id": "e27fc23bca0440d0964fa8121eff95e6"
            }
          },
          "metadata": {}
        },
        {
          "output_type": "stream",
          "name": "stderr",
          "text": [
            "INFO:pytorch_lightning.utilities.rank_zero:`Trainer.fit` stopped: `max_epochs=50` reached.\n",
            "INFO:pytorch_lightning.utilities.rank_zero:GPU available: False, used: False\n",
            "INFO:pytorch_lightning.utilities.rank_zero:TPU available: False, using: 0 TPU cores\n",
            "INFO:pytorch_lightning.utilities.rank_zero:IPU available: False, using: 0 IPUs\n",
            "INFO:pytorch_lightning.utilities.rank_zero:HPU available: False, using: 0 HPUs\n"
          ]
        },
        {
          "output_type": "display_data",
          "data": {
            "text/plain": [
              "Predicting: |          | 0/? [00:00<?, ?it/s]"
            ],
            "application/vnd.jupyter.widget-view+json": {
              "version_major": 2,
              "version_minor": 0,
              "model_id": "ef76eda4752342ef927af149b8880df4"
            }
          },
          "metadata": {}
        },
        {
          "output_type": "execute_result",
          "data": {
            "text/plain": [
              "<Axes: xlabel='date'>"
            ]
          },
          "metadata": {},
          "execution_count": 58
        },
        {
          "output_type": "display_data",
          "data": {
            "text/plain": [
              "<Figure size 640x480 with 1 Axes>"
            ],
            "image/png": "[encoded data removed]"
          },
          "metadata": {}
        }
      ]
    },
    {
      "cell_type": "markdown",
      "source": [
        "## Exercise #4\n",
        "can we do better ? What would we need to do better to improve our forecasting accuracy for Rio de Janeiro (RJ) to Aracaju (SE) ?"
      ],
      "metadata": {
        "id": "HzFnC8wHGh3t"
      }
    },
    {
      "cell_type": "code",
      "source": [
        "# Fill the gaps\n",
        "def get_scaled_training_set_improved(df):\n",
        "  train_ts=[]\n",
        "  # add few lines here to help the model focus even mpre\n",
        "  # df=\n",
        "  groups=df.groupby([\"origin\",\"destination\"])\n",
        "  for k,od_df in groups:\n",
        "      ts=TimeSeries.from_dataframe(od_df,\"date\", \"passengers\",fill_missing_dates=True, freq=\"MS\")\n",
        "      scaler = Scaler()\n",
        "      train_ts.append(scaler.fit_transform(ts[:-prediction_horizon]))\n",
        "  return train_ts"
      ],
      "metadata": {
        "id": "xLaPOdYjHScB"
      },
      "execution_count": 60,
      "outputs": []
    },
    {
      "cell_type": "code",
      "source": [
        "# @title Test your code\n",
        "train_ts=get_scaled_training_set_improved(df)\n",
        "\n",
        "model=NBEATSModel(\n",
        "    input_chunk_length=12,\n",
        "    output_chunk_length=prediction_horizon,\n",
        "    generic_architecture=False,\n",
        "    num_blocks=3,\n",
        "    num_layers=4,\n",
        "    layer_widths=512,\n",
        "    nr_epochs_val_period=1,\n",
        "    random_state=42)\n",
        "model.fit(train_ts, epochs=50, verbose=True)\n",
        "\n",
        "model_predictions=model.predict(series=train_travel_scaled,n=prediction_horizon)\n",
        "\n",
        "mse_score_improv=round(mse(val_travel_scaled,model_predictions),3)\n",
        "am_i_done(mse_score_improv,mse_score)\n",
        "\n",
        "scaled_back_predictions=scaler.inverse_transform(model_predictions)\n",
        "# Plotting\n",
        "series_travel.plot(label=\"actual\")\n",
        "scaled_back_predictions.plot(label=f\"forecast global MSE {mse_score}\")"
      ],
      "metadata": {
        "cellView": "form",
        "id": "dbxZtwoHH7ov"
      },
      "execution_count": null,
      "outputs": []
    },
    {
      "cell_type": "markdown",
      "source": [
        "# A better loss"
      ],
      "metadata": {
        "id": "4i_0k5UixCOX"
      }
    },
    {
      "cell_type": "code",
      "source": [
        "import torch\n",
        "def weighted_forecast_horizon_loss(y_pred,y_true,business_constraint=[3,9]):\n",
        "      # Calculate squared error\n",
        "      squared_error = (y_pred - y_true) ** 2\n",
        "      horizon_weights = torch.full((prediction_horizon,), 1.0, dtype=torch.float32)\n",
        "      large_weight=3\n",
        "      horizon_weights[business_constraint] = large_weight\n",
        "\n",
        "      # Apply horizon weights\n",
        "      weighted_error = squared_error * horizon_weights\n",
        "      loss = torch.mean(weighted_error)\n",
        "      return loss"
      ],
      "metadata": {
        "id": "yA1UYJqUxEsB"
      },
      "execution_count": 66,
      "outputs": []
    },
    {
      "cell_type": "code",
      "source": [
        "model=NBEATSModel(\n",
        "    input_chunk_length=12,\n",
        "    output_chunk_length=prediction_horizon,\n",
        "    generic_architecture=False,\n",
        "    num_blocks=3,\n",
        "    num_layers=4,\n",
        "    layer_widths=512,\n",
        "    nr_epochs_val_period=1,\n",
        "    random_state=42,loss_fn=weighted_forecast_horizon_loss)\n",
        "model.fit(train_ts, epochs=5, verbose=True)\n",
        "\n",
        "model_predictions=model.predict(series=train_travel_scaled,n=prediction_horizon)\n",
        "\n",
        "mse_score=round(mse(val_travel_scaled,model_predictions),3)\n",
        "\n",
        "\n",
        "scaled_back_predictions=scaler.inverse_transform(model_predictions)\n",
        "# Plotting\n",
        "series_travel.plot(label=\"actual\")\n",
        "scaled_back_predictions.plot(label=f\"forecast global MSE {mse_score}\")"
      ],
      "metadata": {
        "id": "0EWld9GtJb_S"
      },
      "execution_count": null,
      "outputs": []
    },
    {
      "cell_type": "markdown",
      "source": [
        "# Future Directions\n",
        "\n",
        "\n",
        "\n",
        "*   Moving on from MSE\n",
        "\n",
        "  *   Look at Mean Absolute Scaled Error ([MASE](https://en.wikipedia.org/wiki/Mean_absolute_scaled_error)) and its varient [RMSSE](https://www.sciencedirect.com/science/article/pii/S0169207021001874) and OWA (overall weighted average) used during M4 competition\n",
        "\n",
        "\n",
        "*   Point Forecast is incomplete without uncertainty estimation\n",
        "\n",
        "  *   [Probabilistic forecasting](https://github.com/unit8co/darts#forecasting-models)\n",
        "  *  You can easily try it with the N-BEATS using the below code\n",
        "\n",
        "*   Uncertainty estimation\n",
        "*   Ensembling\n"
      ],
      "metadata": {
        "id": "o0IXTLUf_oWh"
      }
    },
    {
      "cell_type": "code",
      "source": [
        "# @title Probabilistic Forecasting\n",
        "from darts.utils.likelihood_models import LaplaceLikelihood,QuantileRegression\n",
        "model=NBEATSModel(\n",
        "    input_chunk_length=12,\n",
        "    output_chunk_length=prediction_horizon,\n",
        "    generic_architecture=False,\n",
        "    num_blocks=3,\n",
        "    num_layers=4,\n",
        "    layer_widths=512,\n",
        "    nr_epochs_val_period=1,\n",
        "    random_state=42,loss_fn=weighted_forecast_horizon_loss,likelihood=QuantileRegression(quantiles=[0.01, 0.05, 0.2, 0.5, 0.8, 0.95, 0.99]))\n",
        "model.fit(train_ts, epochs=50, verbose=True)\n",
        "\n",
        "model_predictions=model.predict(series=train_travel_scaled,n=prediction_horizon,num_samples=500)\n",
        "\n",
        "mse_score=round(mse(val_travel_scaled,model_predictions),3)\n",
        "\n",
        "\n",
        "scaled_back_predictions=scaler.inverse_transform(model_predictions)\n",
        "# Plotting\n",
        "series_travel.plot(label=\"actual\")\n",
        "scaled_back_predictions.plot(label=f\"forecast global MSE {mse_score}\")"
      ],
      "metadata": {
        "cellView": "form",
        "id": "gabh2AV3N3cr"
      },
      "execution_count": null,
      "outputs": []
    },
    {
      "cell_type": "code",
      "source": [],
      "metadata": {
        "id": "b6hnkzpyQ8d0"
      },
      "execution_count": null,
      "outputs": []
    }
  ]
}